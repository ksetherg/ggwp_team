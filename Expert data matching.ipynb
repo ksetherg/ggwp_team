{
 "cells": [
  {
   "cell_type": "code",
   "execution_count": 1,
   "id": "atlantic-community",
   "metadata": {},
   "outputs": [
    {
     "name": "stderr",
     "output_type": "stream",
     "text": [
      "/home/alice/Documents/TempTravelHack/venv/lib/python3.7/site-packages/pandas/compat/__init__.py:97: UserWarning: Could not import the lzma module. Your installed Python is incomplete. Attempting to use lzma compression will result in a RuntimeError.\n",
      "  warnings.warn(msg)\n"
     ]
    }
   ],
   "source": [
    "import pandas as pd"
   ]
  },
  {
   "cell_type": "code",
   "execution_count": 24,
   "id": "honey-amateur",
   "metadata": {},
   "outputs": [],
   "source": [
    "df2_plus = pd.read_csv('./data/Datasetv2+.csv', index_col=0)\n",
    "df2 = pd.read_csv('./data/Datasetv2.csv', index_col=0)\n",
    "\n",
    "df2.set_index('Client ID', inplace=True)"
   ]
  },
  {
   "cell_type": "code",
   "execution_count": 25,
   "id": "together-storm",
   "metadata": {},
   "outputs": [
    {
     "data": {
      "text/plain": [
       "Index(['Birthday', 'Age', 'Order', 'Order Date', 'Trip Start Date', 'Year',\n",
       "       'N Nights', 'Trip Type', 'Order Type', 'Country', 'Region',\n",
       "       'N Tourists', 'Adult Tourists', 'Kid Tourists', 'Baby Tourists',\n",
       "       'Star Rate', 'Group Type', 'Price', 'Trip Name', 'Booking Depth',\n",
       "       'Meal Option', 'Destination City', 'Departure City'],\n",
       "      dtype='object')"
      ]
     },
     "execution_count": 25,
     "metadata": {},
     "output_type": "execute_result"
    }
   ],
   "source": [
    "df2.columns"
   ]
  },
  {
   "cell_type": "code",
   "execution_count": 29,
   "id": "metallic-culture",
   "metadata": {},
   "outputs": [],
   "source": [
    "expert_df = pd.read_excel('./expert_data/Страны - курорты.xlsx', sheet_name='Страны')"
   ]
  },
  {
   "cell_type": "code",
   "execution_count": 35,
   "id": "gothic-alliance",
   "metadata": {},
   "outputs": [],
   "source": [
    "expert_df = expert_df.rename(columns={'Название': 'Country'})"
   ]
  },
  {
   "cell_type": "code",
   "execution_count": 38,
   "id": "educated-pollution",
   "metadata": {},
   "outputs": [],
   "source": [
    "df2_expert = df2.merge(expert_df, how='left', on='Country')"
   ]
  },
  {
   "cell_type": "code",
   "execution_count": 40,
   "id": "technological-receipt",
   "metadata": {},
   "outputs": [],
   "source": [
    "df2_expert.to_csv('./data/Datasetv2_expert.csv')"
   ]
  },
  {
   "cell_type": "code",
   "execution_count": null,
   "id": "portable-thesis",
   "metadata": {},
   "outputs": [],
   "source": []
  }
 ],
 "metadata": {
  "kernelspec": {
   "display_name": "Python 3",
   "language": "python",
   "name": "python3"
  },
  "language_info": {
   "codemirror_mode": {
    "name": "ipython",
    "version": 3
   },
   "file_extension": ".py",
   "mimetype": "text/x-python",
   "name": "python",
   "nbconvert_exporter": "python",
   "pygments_lexer": "ipython3",
   "version": "3.7.7"
  }
 },
 "nbformat": 4,
 "nbformat_minor": 5
}
