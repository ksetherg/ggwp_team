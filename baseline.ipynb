{
 "metadata": {
  "language_info": {
   "codemirror_mode": {
    "name": "ipython",
    "version": 3
   },
   "file_extension": ".py",
   "mimetype": "text/x-python",
   "name": "python",
   "nbconvert_exporter": "python",
   "pygments_lexer": "ipython3",
   "version": "3.7.6-final"
  },
  "orig_nbformat": 2,
  "kernelspec": {
   "name": "python3",
   "display_name": "Python 3.7.6 64-bit ('base': conda)",
   "metadata": {
    "interpreter": {
     "hash": "bb34afcd21096bb12d391ff456b403c0c7e08e4123ae18bb4b7199c9e2ffb45f"
    }
   }
  }
 },
 "nbformat": 4,
 "nbformat_minor": 2,
 "cells": [
  {
   "cell_type": "code",
   "execution_count": 1,
   "metadata": {},
   "outputs": [],
   "source": [
    "import pandas as pd"
   ]
  },
  {
   "cell_type": "code",
   "execution_count": 2,
   "metadata": {},
   "outputs": [
    {
     "output_type": "execute_result",
     "data": {
      "text/plain": [
       "   Client ID  Gender  Year  Trip Type  Order Type  Country  Region  Star Rate  \\\n",
       "0    4197429       1     3          0           0        0       0          2   \n",
       "1    4197517       1     3          0           0        0       5          1   \n",
       "2    4197719       1     3          0           0        0       1          1   \n",
       "3    4199375       1     3          0           0        0       0          1   \n",
       "4    4208819       1     3          0           0        0       3          3   \n",
       "\n",
       "   Group Type  Meal Option  ...  N Tourists  Adult Tourists  Baby Tourists  \\\n",
       "0           0            1  ...           2               0              0   \n",
       "1           0            2  ...           1               0              0   \n",
       "2           0            2  ...           1               0              0   \n",
       "3           0            2  ...           0               2              0   \n",
       "4           2            5  ...           2               3              0   \n",
       "\n",
       "   Kid Tourists     Birthday    Order    Order Date  Trip Start Date    Price  \\\n",
       "0             2  672537600.0  4803671  1.612731e+09     1.620086e+09  1718.64   \n",
       "1             1  342230400.0  4803915  1.612775e+09     1.614816e+09   948.45   \n",
       "2             1  -39052800.0  4806034  1.612814e+09     1.633738e+09  2128.15   \n",
       "3             1 -300758400.0  4807039  1.612875e+09     1.614384e+09   993.85   \n",
       "4             0  484704000.0  4808190  1.612892e+09     1.622938e+09  1121.02   \n",
       "\n",
       "   Booking Depth  \n",
       "0      85.136111  \n",
       "1      23.622917  \n",
       "2     242.176389  \n",
       "3      17.468056  \n",
       "4     116.265278  \n",
       "\n",
       "[5 rows x 24 columns]"
      ],
      "text/html": "<div>\n<style scoped>\n    .dataframe tbody tr th:only-of-type {\n        vertical-align: middle;\n    }\n\n    .dataframe tbody tr th {\n        vertical-align: top;\n    }\n\n    .dataframe thead th {\n        text-align: right;\n    }\n</style>\n<table border=\"1\" class=\"dataframe\">\n  <thead>\n    <tr style=\"text-align: right;\">\n      <th></th>\n      <th>Client ID</th>\n      <th>Gender</th>\n      <th>Year</th>\n      <th>Trip Type</th>\n      <th>Order Type</th>\n      <th>Country</th>\n      <th>Region</th>\n      <th>Star Rate</th>\n      <th>Group Type</th>\n      <th>Meal Option</th>\n      <th>...</th>\n      <th>N Tourists</th>\n      <th>Adult Tourists</th>\n      <th>Baby Tourists</th>\n      <th>Kid Tourists</th>\n      <th>Birthday</th>\n      <th>Order</th>\n      <th>Order Date</th>\n      <th>Trip Start Date</th>\n      <th>Price</th>\n      <th>Booking Depth</th>\n    </tr>\n  </thead>\n  <tbody>\n    <tr>\n      <th>0</th>\n      <td>4197429</td>\n      <td>1</td>\n      <td>3</td>\n      <td>0</td>\n      <td>0</td>\n      <td>0</td>\n      <td>0</td>\n      <td>2</td>\n      <td>0</td>\n      <td>1</td>\n      <td>...</td>\n      <td>2</td>\n      <td>0</td>\n      <td>0</td>\n      <td>2</td>\n      <td>672537600.0</td>\n      <td>4803671</td>\n      <td>1.612731e+09</td>\n      <td>1.620086e+09</td>\n      <td>1718.64</td>\n      <td>85.136111</td>\n    </tr>\n    <tr>\n      <th>1</th>\n      <td>4197517</td>\n      <td>1</td>\n      <td>3</td>\n      <td>0</td>\n      <td>0</td>\n      <td>0</td>\n      <td>5</td>\n      <td>1</td>\n      <td>0</td>\n      <td>2</td>\n      <td>...</td>\n      <td>1</td>\n      <td>0</td>\n      <td>0</td>\n      <td>1</td>\n      <td>342230400.0</td>\n      <td>4803915</td>\n      <td>1.612775e+09</td>\n      <td>1.614816e+09</td>\n      <td>948.45</td>\n      <td>23.622917</td>\n    </tr>\n    <tr>\n      <th>2</th>\n      <td>4197719</td>\n      <td>1</td>\n      <td>3</td>\n      <td>0</td>\n      <td>0</td>\n      <td>0</td>\n      <td>1</td>\n      <td>1</td>\n      <td>0</td>\n      <td>2</td>\n      <td>...</td>\n      <td>1</td>\n      <td>0</td>\n      <td>0</td>\n      <td>1</td>\n      <td>-39052800.0</td>\n      <td>4806034</td>\n      <td>1.612814e+09</td>\n      <td>1.633738e+09</td>\n      <td>2128.15</td>\n      <td>242.176389</td>\n    </tr>\n    <tr>\n      <th>3</th>\n      <td>4199375</td>\n      <td>1</td>\n      <td>3</td>\n      <td>0</td>\n      <td>0</td>\n      <td>0</td>\n      <td>0</td>\n      <td>1</td>\n      <td>0</td>\n      <td>2</td>\n      <td>...</td>\n      <td>0</td>\n      <td>2</td>\n      <td>0</td>\n      <td>1</td>\n      <td>-300758400.0</td>\n      <td>4807039</td>\n      <td>1.612875e+09</td>\n      <td>1.614384e+09</td>\n      <td>993.85</td>\n      <td>17.468056</td>\n    </tr>\n    <tr>\n      <th>4</th>\n      <td>4208819</td>\n      <td>1</td>\n      <td>3</td>\n      <td>0</td>\n      <td>0</td>\n      <td>0</td>\n      <td>3</td>\n      <td>3</td>\n      <td>2</td>\n      <td>5</td>\n      <td>...</td>\n      <td>2</td>\n      <td>3</td>\n      <td>0</td>\n      <td>0</td>\n      <td>484704000.0</td>\n      <td>4808190</td>\n      <td>1.612892e+09</td>\n      <td>1.622938e+09</td>\n      <td>1121.02</td>\n      <td>116.265278</td>\n    </tr>\n  </tbody>\n</table>\n<p>5 rows × 24 columns</p>\n</div>"
     },
     "metadata": {},
     "execution_count": 2
    }
   ],
   "source": [
    "df = pd.read_csv('./ggwp_team/data/DatasetV4.csv')\n",
    "df['client_id'] = df.index\n",
    "df.head()"
   ]
  },
  {
   "cell_type": "code",
   "execution_count": 68,
   "metadata": {},
   "outputs": [],
   "source": [
    "from spotlight.interactions import Interactions\n",
    "from spotlight.factorization.explicit import ExplicitFactorizationModel\n",
    "from spotlight.factorization.implicit import ImplicitFactorizationModel\n",
    "from spotlight.cross_validation import random_train_test_split\n",
    "from spotlight.evaluation import rmse_score\n",
    "from spotlight.evaluation import mrr_score\n",
    "\n",
    "models_dict = {}"
   ]
  },
  {
   "cell_type": "code",
   "execution_count": 20,
   "metadata": {},
   "outputs": [],
   "source": [
    "data = Interactions(user_ids=df[\"client_id\"].values, item_ids=df[\"Region\"].values)\n",
    "train, test = random_train_test_split(data)"
   ]
  },
  {
   "cell_type": "code",
   "execution_count": 23,
   "metadata": {},
   "outputs": [
    {
     "output_type": "stream",
     "name": "stdout",
     "text": [
      "Epoch 0: loss 0.5512301174141246\n",
      "Epoch 1: loss 0.21715091806661918\n"
     ]
    }
   ],
   "source": [
    "model = ImplicitFactorizationModel(n_iter=2)\n",
    "model.fit(train, verbose=True)"
   ]
  },
  {
   "cell_type": "code",
   "execution_count": 41,
   "metadata": {},
   "outputs": [],
   "source": [
    "res = model.predict(user_ids=162130)"
   ]
  },
  {
   "cell_type": "code",
   "execution_count": 47,
   "metadata": {},
   "outputs": [],
   "source": [
    "mrr = mrr_score(model, test)\n",
    "mrr"
   ]
  },
  {
   "cell_type": "code",
   "execution_count": 70,
   "metadata": {},
   "outputs": [
    {
     "output_type": "stream",
     "name": "stdout",
     "text": [
      "Training on Year feature\n",
      "Epoch 0: loss 0.7045349026690338\n",
      "Training on Trip Type feature\n",
      "Epoch 0: loss 0.45107137489718563\n",
      "Training on Order Type feature\n",
      "Epoch 0: loss 0.4367696030958164\n"
     ]
    }
   ],
   "source": [
    "N_ITER = 1\n",
    "stop_loop_debug = 0\n",
    "\n",
    "for column_name in df.columns[:-1]:\n",
    "    stop_loop_debug += 1\n",
    "    print(\"Training on {} feature\".format(column_name))\n",
    "    model = ImplicitFactorizationModel(n_iter=N_ITER)\n",
    "    data = Interactions(user_ids=df[\"client_id\"].values, item_ids=df[column_name].values)\n",
    "    train, test = random_train_test_split(data)\n",
    "    model.fit(train, verbose=True)\n",
    "    models_dict[column_name] = {\"model\" : model, \"train\": train, \"test\": test}\n",
    "    if stop_loop_debug == 3:\n",
    "        break"
   ]
  },
  {
   "cell_type": "code",
   "execution_count": 73,
   "metadata": {},
   "outputs": [],
   "source": [
    "model = models_dict[\"Order Type\"][\"model\"]\n",
    "train = models_dict[\"Order Type\"][\"train\"]\n",
    "test = models_dict[\"Order Type\"][\"test\"]"
   ]
  },
  {
   "cell_type": "code",
   "execution_count": 74,
   "metadata": {},
   "outputs": [
    {
     "output_type": "execute_result",
     "data": {
      "text/plain": [
       "array([1., 1., 1., ..., 1., 1., 1.])"
      ]
     },
     "metadata": {},
     "execution_count": 74
    }
   ],
   "source": [
    "mrr = mrr_score(model, test)\n",
    "mrr"
   ]
  },
  {
   "cell_type": "code",
   "execution_count": 78,
   "metadata": {},
   "outputs": [
    {
     "output_type": "execute_result",
     "data": {
      "text/plain": [
       "3881"
      ]
     },
     "metadata": {},
     "execution_count": 78
    }
   ],
   "source": []
  },
  {
   "cell_type": "code",
   "execution_count": null,
   "metadata": {},
   "outputs": [],
   "source": []
  }
 ]
}