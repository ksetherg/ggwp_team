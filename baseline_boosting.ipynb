{
 "cells": [
  {
   "cell_type": "code",
   "execution_count": 54,
   "metadata": {},
   "outputs": [
    {
     "name": "stdout",
     "output_type": "stream",
     "text": [
      "The autoreload extension is already loaded. To reload it, use:\n",
      "  %reload_ext autoreload\n"
     ]
    }
   ],
   "source": [
    "%load_ext autoreload\n",
    "%autoreload 2"
   ]
  },
  {
   "cell_type": "code",
   "execution_count": 55,
   "metadata": {},
   "outputs": [],
   "source": [
    "import catboost\n",
    "import pandas as pd\n",
    "import numpy as np\n",
    "from sklearn.model_selection import train_test_split"
   ]
  },
  {
   "cell_type": "code",
   "execution_count": 56,
   "metadata": {},
   "outputs": [
    {
     "data": {
      "text/html": [
       "<div>\n",
       "<style scoped>\n",
       "    .dataframe tbody tr th:only-of-type {\n",
       "        vertical-align: middle;\n",
       "    }\n",
       "\n",
       "    .dataframe tbody tr th {\n",
       "        vertical-align: top;\n",
       "    }\n",
       "\n",
       "    .dataframe thead th {\n",
       "        text-align: right;\n",
       "    }\n",
       "</style>\n",
       "<table border=\"1\" class=\"dataframe\">\n",
       "  <thead>\n",
       "    <tr style=\"text-align: right;\">\n",
       "      <th></th>\n",
       "      <th>Client ID</th>\n",
       "      <th>Gender</th>\n",
       "      <th>Year</th>\n",
       "      <th>Trip Type</th>\n",
       "      <th>Order Type</th>\n",
       "      <th>Country</th>\n",
       "      <th>Region</th>\n",
       "      <th>Star Rate</th>\n",
       "      <th>Group Type</th>\n",
       "      <th>Meal Option</th>\n",
       "      <th>...</th>\n",
       "      <th>lat_from</th>\n",
       "      <th>lng_from</th>\n",
       "      <th>lat_to</th>\n",
       "      <th>lng_to</th>\n",
       "      <th>Birthday</th>\n",
       "      <th>Order</th>\n",
       "      <th>Order Date</th>\n",
       "      <th>Trip Start Date</th>\n",
       "      <th>Price</th>\n",
       "      <th>Booking Depth</th>\n",
       "    </tr>\n",
       "  </thead>\n",
       "  <tbody>\n",
       "    <tr>\n",
       "      <th>0</th>\n",
       "      <td>4197429</td>\n",
       "      <td>1</td>\n",
       "      <td>3</td>\n",
       "      <td>0</td>\n",
       "      <td>0</td>\n",
       "      <td>0</td>\n",
       "      <td>0</td>\n",
       "      <td>2</td>\n",
       "      <td>0</td>\n",
       "      <td>1</td>\n",
       "      <td>...</td>\n",
       "      <td>59.939043</td>\n",
       "      <td>30.315816</td>\n",
       "      <td>36.719216</td>\n",
       "      <td>31.568803</td>\n",
       "      <td>672537600.0</td>\n",
       "      <td>4803671</td>\n",
       "      <td>1.612731e+09</td>\n",
       "      <td>1.620086e+09</td>\n",
       "      <td>1718.64</td>\n",
       "      <td>85.136111</td>\n",
       "    </tr>\n",
       "    <tr>\n",
       "      <th>1</th>\n",
       "      <td>4197517</td>\n",
       "      <td>1</td>\n",
       "      <td>3</td>\n",
       "      <td>0</td>\n",
       "      <td>0</td>\n",
       "      <td>0</td>\n",
       "      <td>5</td>\n",
       "      <td>1</td>\n",
       "      <td>0</td>\n",
       "      <td>2</td>\n",
       "      <td>...</td>\n",
       "      <td>55.752044</td>\n",
       "      <td>37.618500</td>\n",
       "      <td>25.079911</td>\n",
       "      <td>55.147475</td>\n",
       "      <td>342230400.0</td>\n",
       "      <td>4803915</td>\n",
       "      <td>1.612775e+09</td>\n",
       "      <td>1.614816e+09</td>\n",
       "      <td>948.45</td>\n",
       "      <td>23.622917</td>\n",
       "    </tr>\n",
       "    <tr>\n",
       "      <th>2</th>\n",
       "      <td>4197719</td>\n",
       "      <td>1</td>\n",
       "      <td>3</td>\n",
       "      <td>0</td>\n",
       "      <td>0</td>\n",
       "      <td>0</td>\n",
       "      <td>1</td>\n",
       "      <td>1</td>\n",
       "      <td>0</td>\n",
       "      <td>2</td>\n",
       "      <td>...</td>\n",
       "      <td>55.752044</td>\n",
       "      <td>37.618500</td>\n",
       "      <td>25.079911</td>\n",
       "      <td>55.147475</td>\n",
       "      <td>-39052800.0</td>\n",
       "      <td>4806034</td>\n",
       "      <td>1.612814e+09</td>\n",
       "      <td>1.633738e+09</td>\n",
       "      <td>2128.15</td>\n",
       "      <td>242.176389</td>\n",
       "    </tr>\n",
       "    <tr>\n",
       "      <th>3</th>\n",
       "      <td>4199375</td>\n",
       "      <td>1</td>\n",
       "      <td>3</td>\n",
       "      <td>0</td>\n",
       "      <td>0</td>\n",
       "      <td>0</td>\n",
       "      <td>0</td>\n",
       "      <td>1</td>\n",
       "      <td>0</td>\n",
       "      <td>2</td>\n",
       "      <td>...</td>\n",
       "      <td>55.752044</td>\n",
       "      <td>37.618500</td>\n",
       "      <td>25.079911</td>\n",
       "      <td>55.147475</td>\n",
       "      <td>-300758400.0</td>\n",
       "      <td>4807039</td>\n",
       "      <td>1.612875e+09</td>\n",
       "      <td>1.614384e+09</td>\n",
       "      <td>993.85</td>\n",
       "      <td>17.468056</td>\n",
       "    </tr>\n",
       "    <tr>\n",
       "      <th>4</th>\n",
       "      <td>4208819</td>\n",
       "      <td>1</td>\n",
       "      <td>3</td>\n",
       "      <td>0</td>\n",
       "      <td>0</td>\n",
       "      <td>0</td>\n",
       "      <td>3</td>\n",
       "      <td>3</td>\n",
       "      <td>2</td>\n",
       "      <td>5</td>\n",
       "      <td>...</td>\n",
       "      <td>55.752044</td>\n",
       "      <td>37.618500</td>\n",
       "      <td>25.079911</td>\n",
       "      <td>55.147475</td>\n",
       "      <td>484704000.0</td>\n",
       "      <td>4808190</td>\n",
       "      <td>1.612892e+09</td>\n",
       "      <td>1.622938e+09</td>\n",
       "      <td>1121.02</td>\n",
       "      <td>116.265278</td>\n",
       "    </tr>\n",
       "  </tbody>\n",
       "</table>\n",
       "<p>5 rows × 47 columns</p>\n",
       "</div>"
      ],
      "text/plain": [
       "   Client ID  Gender  Year  Trip Type  Order Type  Country  Region  Star Rate  \\\n",
       "0    4197429       1     3          0           0        0       0          2   \n",
       "1    4197517       1     3          0           0        0       5          1   \n",
       "2    4197719       1     3          0           0        0       1          1   \n",
       "3    4199375       1     3          0           0        0       0          1   \n",
       "4    4208819       1     3          0           0        0       3          3   \n",
       "\n",
       "   Group Type  Meal Option  ...   lat_from   lng_from     lat_to     lng_to  \\\n",
       "0           0            1  ...  59.939043  30.315816  36.719216  31.568803   \n",
       "1           0            2  ...  55.752044  37.618500  25.079911  55.147475   \n",
       "2           0            2  ...  55.752044  37.618500  25.079911  55.147475   \n",
       "3           0            2  ...  55.752044  37.618500  25.079911  55.147475   \n",
       "4           2            5  ...  55.752044  37.618500  25.079911  55.147475   \n",
       "\n",
       "      Birthday    Order    Order Date  Trip Start Date    Price  Booking Depth  \n",
       "0  672537600.0  4803671  1.612731e+09     1.620086e+09  1718.64      85.136111  \n",
       "1  342230400.0  4803915  1.612775e+09     1.614816e+09   948.45      23.622917  \n",
       "2  -39052800.0  4806034  1.612814e+09     1.633738e+09  2128.15     242.176389  \n",
       "3 -300758400.0  4807039  1.612875e+09     1.614384e+09   993.85      17.468056  \n",
       "4  484704000.0  4808190  1.612892e+09     1.622938e+09  1121.02     116.265278  \n",
       "\n",
       "[5 rows x 47 columns]"
      ]
     },
     "execution_count": 56,
     "metadata": {},
     "output_type": "execute_result"
    }
   ],
   "source": [
    "df = pd.read_csv('./data/DatasetV4+.csv')\n",
    "df.head()"
   ]
  },
  {
   "cell_type": "code",
   "execution_count": 57,
   "metadata": {},
   "outputs": [],
   "source": [
    "df.set_index(['Client ID'], inplace=True)"
   ]
  },
  {
   "cell_type": "code",
   "execution_count": 58,
   "metadata": {},
   "outputs": [],
   "source": [
    "cat_features = ['Gender', 'Year', 'Trip Type', 'Order Type', 'Country', 'Region',\n",
    "       'Star Rate', 'Group Type', 'Meal Option', 'Destination City',\n",
    "       'Departure City', 'Age', 'N Nights', 'N Tourists', 'Adult Tourists',\n",
    "       'Baby Tourists', 'Kid Tourists', 'currency_to', 'flag_to',\n",
    "       'roadinfo_to', 'timezone_name_to', 'timezone_shortname_to',\n",
    "       'continent_to', 'city_to', 'country_to', 'confidence_to', 'MGRS_from',\n",
    "       'currency_from', 'flag_from', 'roadinfo_from', 'timezone_name_from',\n",
    "       'timezone_shortname_from', 'continent_from', 'city_from',\n",
    "       'country_from', 'confidence_from', 'Order']"
   ]
  },
  {
   "cell_type": "code",
   "execution_count": 59,
   "metadata": {},
   "outputs": [
    {
     "name": "stdout",
     "output_type": "stream",
     "text": [
      "[0, 1, 2, 3, 4, 5, 6, 7, 8, 9, 10, 11, 12, 13, 14, 15, 16, 17, 18, 19, 20, 21, 22, 23, 24, 25, 26, 27, 28, 29, 30, 31, 32, 33, 34, 35, 41]\n"
     ]
    }
   ],
   "source": [
    "def set_cat_features(features, cat_features):\n",
    "    cat_features_idx = []\n",
    "    for cat_feature in cat_features:\n",
    "        idx = features.index(cat_feature)\n",
    "        cat_features_idx.append(idx)\n",
    "    return cat_features_idx\n",
    "\n",
    "print(set_cat_features(features=df.columns.tolist(), cat_features=cat_features))"
   ]
  },
  {
   "cell_type": "code",
   "execution_count": null,
   "metadata": {},
   "outputs": [],
   "source": []
  },
  {
   "cell_type": "markdown",
   "metadata": {},
   "source": [
    "# Цена"
   ]
  },
  {
   "cell_type": "code",
   "execution_count": 57,
   "metadata": {},
   "outputs": [
    {
     "name": "stdout",
     "output_type": "stream",
     "text": [
      "(162140, 23) (162140,)\n"
     ]
    }
   ],
   "source": [
    "X = df.loc[:, df.columns != 'Price']\n",
    "y = df['Price']\n",
    "print(X.shape, y.shape)\n",
    "X_train, X_test, y_train, y_test = train_test_split(X, y, test_size=0.2, random_state=42)"
   ]
  },
  {
   "cell_type": "code",
   "execution_count": 58,
   "metadata": {},
   "outputs": [
    {
     "name": "stdout",
     "output_type": "stream",
     "text": [
      "Learning rate set to 0.092792\n",
      "0:\tlearn: 1620.2081366\ttotal: 13.5ms\tremaining: 13.5s\n",
      "500:\tlearn: 685.4495442\ttotal: 5.5s\tremaining: 5.48s\n",
      "999:\tlearn: 614.1768552\ttotal: 10.6s\tremaining: 0us\n"
     ]
    },
    {
     "data": {
      "text/plain": [
       "<catboost.core.CatBoostRegressor at 0x7fd4b3dd3310>"
      ]
     },
     "execution_count": 58,
     "metadata": {},
     "output_type": "execute_result"
    }
   ],
   "source": [
    "model = catboost.CatBoostRegressor()\n",
    "model.fit(X_train, y_train, verbose=500)"
   ]
  },
  {
   "cell_type": "code",
   "execution_count": 41,
   "metadata": {},
   "outputs": [
    {
     "data": {
      "text/plain": [
       "array([5337.58697916, 2760.01220912,  776.88271645, ..., 1533.07369912,\n",
       "       1022.81594485, 3178.19533885])"
      ]
     },
     "execution_count": 41,
     "metadata": {},
     "output_type": "execute_result"
    }
   ],
   "source": [
    "model.predict(X_test)"
   ]
  },
  {
   "cell_type": "code",
   "execution_count": 61,
   "metadata": {},
   "outputs": [
    {
     "data": {
      "text/plain": [
       "416.7255787433235"
      ]
     },
     "execution_count": 61,
     "metadata": {},
     "output_type": "execute_result"
    }
   ],
   "source": [
    "from sklearn.metrics import mean_squared_error, mean_absolute_error\n",
    "\n",
    "preds = model.predict(X_test)\n",
    "\n",
    "rmse = mean_absolute_error(y_test.values, preds)\n",
    "# print(np.sqrt(rmse))\n",
    "rmse\n",
    "# model.eval_metrics(X_test, metrics=['MAE', 'RMSE'])"
   ]
  },
  {
   "cell_type": "code",
   "execution_count": 51,
   "metadata": {},
   "outputs": [
    {
     "data": {
      "text/plain": [
       "array([4367.  , 2845.23,  942.77, ..., 1230.6 ,  801.  , 3001.07])"
      ]
     },
     "execution_count": 51,
     "metadata": {},
     "output_type": "execute_result"
    }
   ],
   "source": [
    "y_test.values"
   ]
  },
  {
   "cell_type": "markdown",
   "metadata": {},
   "source": [
    "# Тип питания"
   ]
  },
  {
   "cell_type": "code",
   "execution_count": 62,
   "metadata": {},
   "outputs": [
    {
     "name": "stdout",
     "output_type": "stream",
     "text": [
      "(162140, 23) (162140,)\n"
     ]
    }
   ],
   "source": [
    "X = df.loc[:, df.columns != 'Meal Option']\n",
    "y = df['Meal Option']\n",
    "print(X.shape, y.shape)\n",
    "X_train, X_test, y_train, y_test = train_test_split(X, y, test_size=0.2, random_state=42)"
   ]
  },
  {
   "cell_type": "code",
   "execution_count": 63,
   "metadata": {},
   "outputs": [
    {
     "name": "stdout",
     "output_type": "stream",
     "text": [
      "Learning rate set to 0.101411\n",
      "0:\tlearn: 1.6345281\ttotal: 113ms\tremaining: 1m 52s\n",
      "500:\tlearn: 0.2781199\ttotal: 41.7s\tremaining: 41.6s\n",
      "999:\tlearn: 0.2316647\ttotal: 1m 21s\tremaining: 0us\n"
     ]
    },
    {
     "data": {
      "text/plain": [
       "<catboost.core.CatBoostClassifier at 0x7fd4b45c1690>"
      ]
     },
     "execution_count": 63,
     "metadata": {},
     "output_type": "execute_result"
    }
   ],
   "source": [
    "clf = catboost.CatBoostClassifier()\n",
    "clf.fit(X_train, y_train, verbose=500)"
   ]
  },
  {
   "cell_type": "code",
   "execution_count": 64,
   "metadata": {},
   "outputs": [
    {
     "data": {
      "text/plain": [
       "0.890650055507586"
      ]
     },
     "execution_count": 64,
     "metadata": {},
     "output_type": "execute_result"
    }
   ],
   "source": [
    "from sklearn.metrics import accuracy_score\n",
    "\n",
    "preds = clf.predict(X_test)\n",
    "acc = accuracy_score(y_test, preds)\n",
    "acc"
   ]
  },
  {
   "cell_type": "code",
   "execution_count": 69,
   "metadata": {},
   "outputs": [],
   "source": [
    "d = {}\n",
    "for item in preds:\n",
    "    for pred in item:\n",
    "        if pred not in d:\n",
    "            d[pred] = 1\n",
    "        else:\n",
    "            d[pred] += 1"
   ]
  },
  {
   "cell_type": "code",
   "execution_count": 71,
   "metadata": {},
   "outputs": [
    {
     "data": {
      "text/plain": [
       "(32428, 23)"
      ]
     },
     "execution_count": 71,
     "metadata": {},
     "output_type": "execute_result"
    }
   ],
   "source": [
    "X_test.shape"
   ]
  },
  {
   "cell_type": "markdown",
   "metadata": {},
   "source": [
    "# Звездность"
   ]
  },
  {
   "cell_type": "code",
   "execution_count": 72,
   "metadata": {},
   "outputs": [
    {
     "name": "stdout",
     "output_type": "stream",
     "text": [
      "(162140, 23) (162140,)\n"
     ]
    }
   ],
   "source": [
    "X = df.loc[:, df.columns != 'Star Rate']\n",
    "y = df['Star Rate']\n",
    "print(X.shape, y.shape)\n",
    "X_train, X_test, y_train, y_test = train_test_split(X, y, test_size=0.2, random_state=42)"
   ]
  },
  {
   "cell_type": "code",
   "execution_count": 74,
   "metadata": {},
   "outputs": [
    {
     "name": "stdout",
     "output_type": "stream",
     "text": [
      "Learning rate set to 0.101411\n",
      "0:\tlearn: 1.5252660\ttotal: 80.5ms\tremaining: 1m 20s\n",
      "500:\tlearn: 0.2067484\ttotal: 34.8s\tremaining: 34.7s\n",
      "999:\tlearn: 0.1698442\ttotal: 1m 11s\tremaining: 0us\n"
     ]
    },
    {
     "data": {
      "text/plain": [
       "<catboost.core.CatBoostClassifier at 0x7fd4b45c1690>"
      ]
     },
     "execution_count": 74,
     "metadata": {},
     "output_type": "execute_result"
    }
   ],
   "source": [
    "clf_star = catboost.CatBoostClassifier()\n",
    "clf._star.fit(X_train, y_train, verbose=500)"
   ]
  },
  {
   "cell_type": "code",
   "execution_count": null,
   "metadata": {},
   "outputs": [],
   "source": [
    "from sklearn.metrics import accuracy_score\n",
    "\n",
    "preds = clf_star.predict(X_test)\n",
    "acc = accuracy_score(y_test, preds)\n",
    "acc"
   ]
  },
  {
   "cell_type": "markdown",
   "metadata": {},
   "source": [
    "# Продолжительность"
   ]
  },
  {
   "cell_type": "code",
   "execution_count": 86,
   "metadata": {},
   "outputs": [
    {
     "name": "stdout",
     "output_type": "stream",
     "text": [
      "(162140, 23) (162140,)\n"
     ]
    }
   ],
   "source": [
    "X = df.loc[:, df.columns != 'N Nights']\n",
    "y = df['N Nights']\n",
    "print(X.shape, y.shape)\n",
    "X_train, X_test, y_train, y_test = train_test_split(X, y, test_size=0.5, random_state=42)"
   ]
  },
  {
   "cell_type": "code",
   "execution_count": 89,
   "metadata": {},
   "outputs": [
    {
     "name": "stdout",
     "output_type": "stream",
     "text": [
      "Learning rate set to 0.085345\n",
      "0:\tlearn: 3.7583508\ttotal: 14.3ms\tremaining: 14.3s\n",
      "500:\tlearn: 3.0459909\ttotal: 3.86s\tremaining: 3.85s\n",
      "999:\tlearn: 2.9094843\ttotal: 8.15s\tremaining: 0us\n"
     ]
    },
    {
     "data": {
      "text/plain": [
       "<catboost.core.CatBoostRegressor at 0x7fd4ad3136d0>"
      ]
     },
     "execution_count": 89,
     "metadata": {},
     "output_type": "execute_result"
    }
   ],
   "source": [
    "clf_nights = catboost.CatBoostRegressor()\n",
    "clf_nights.fit(X_train, y_train, verbose=500)"
   ]
  },
  {
   "cell_type": "code",
   "execution_count": 88,
   "metadata": {},
   "outputs": [
    {
     "data": {
      "text/plain": [
       "0.3798815838164549"
      ]
     },
     "execution_count": 88,
     "metadata": {},
     "output_type": "execute_result"
    }
   ],
   "source": [
    "from sklearn.metrics import accuracy_score\n",
    "\n",
    "preds = clf_nights.predict(X_test)\n",
    "acc = accuracy_score(y_test, preds)\n",
    "acc"
   ]
  },
  {
   "cell_type": "code",
   "execution_count": 103,
   "metadata": {},
   "outputs": [
    {
     "data": {
      "text/plain": [
       "2.353472307882077"
      ]
     },
     "execution_count": 103,
     "metadata": {},
     "output_type": "execute_result"
    }
   ],
   "source": [
    "from sklearn.metrics import mean_squared_error, mean_absolute_error\n",
    "\n",
    "preds = clf_nights.predict(X_test)\n",
    "round_preds = np.around(preds)\n",
    "\n",
    "rmse = mean_absolute_error(y_test.values, round_preds)\n",
    "# rmse = mean_squared_error(y_test.values, round_preds)\n",
    "# print(np.sqrt(rmse))\n",
    "rmse\n",
    "# model.eval_metrics(X_test, metrics=['MAE', 'RMSE'])"
   ]
  },
  {
   "cell_type": "markdown",
   "metadata": {},
   "source": [
    "# Курорт"
   ]
  },
  {
   "cell_type": "code",
   "execution_count": 10,
   "metadata": {},
   "outputs": [],
   "source": [
    "# -- // --"
   ]
  },
  {
   "cell_type": "code",
   "execution_count": null,
   "metadata": {},
   "outputs": [],
   "source": []
  },
  {
   "cell_type": "code",
   "execution_count": null,
   "metadata": {},
   "outputs": [],
   "source": []
  },
  {
   "cell_type": "markdown",
   "metadata": {},
   "source": [
    "## Use class"
   ]
  },
  {
   "cell_type": "code",
   "execution_count": 75,
   "metadata": {},
   "outputs": [],
   "source": [
    "from modniy_class import Reccommender"
   ]
  },
  {
   "cell_type": "code",
   "execution_count": 76,
   "metadata": {},
   "outputs": [],
   "source": [
    "rec = Reccommender()"
   ]
  },
  {
   "cell_type": "code",
   "execution_count": null,
   "metadata": {
    "scrolled": false
   },
   "outputs": [],
   "source": [
    "report = rec.fit(train=df.dropna())"
   ]
  },
  {
   "cell_type": "code",
   "execution_count": null,
   "metadata": {},
   "outputs": [],
   "source": []
  }
 ],
 "metadata": {
  "kernelspec": {
   "display_name": "Python 3",
   "language": "python",
   "name": "python3"
  },
  "language_info": {
   "codemirror_mode": {
    "name": "ipython",
    "version": 3
   },
   "file_extension": ".py",
   "mimetype": "text/x-python",
   "name": "python",
   "nbconvert_exporter": "python",
   "pygments_lexer": "ipython3",
   "version": "3.7.7"
  }
 },
 "nbformat": 4,
 "nbformat_minor": 2
}
