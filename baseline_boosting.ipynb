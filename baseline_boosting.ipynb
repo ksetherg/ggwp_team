{
 "cells": [
  {
   "cell_type": "code",
   "execution_count": 20,
   "metadata": {},
   "outputs": [
    {
     "name": "stdout",
     "output_type": "stream",
     "text": [
      "The autoreload extension is already loaded. To reload it, use:\n",
      "  %reload_ext autoreload\n"
     ]
    }
   ],
   "source": [
    "%load_ext autoreload\n",
    "%autoreload 2"
   ]
  },
  {
   "cell_type": "code",
   "execution_count": 21,
   "metadata": {},
   "outputs": [],
   "source": [
    "import catboost\n",
    "import pandas as pd\n",
    "import numpy as np\n",
    "from sklearn.model_selection import train_test_split"
   ]
  },
  {
   "cell_type": "code",
   "execution_count": 27,
   "metadata": {},
   "outputs": [],
   "source": [
    "df = pd.read_csv('./data/DatasetV4+.csv')\n",
    "df.set_index('Client ID', inplace=True)"
   ]
  },
  {
   "cell_type": "code",
   "execution_count": 28,
   "metadata": {},
   "outputs": [
    {
     "data": {
      "text/html": [
       "<div>\n",
       "<style scoped>\n",
       "    .dataframe tbody tr th:only-of-type {\n",
       "        vertical-align: middle;\n",
       "    }\n",
       "\n",
       "    .dataframe tbody tr th {\n",
       "        vertical-align: top;\n",
       "    }\n",
       "\n",
       "    .dataframe thead th {\n",
       "        text-align: right;\n",
       "    }\n",
       "</style>\n",
       "<table border=\"1\" class=\"dataframe\">\n",
       "  <thead>\n",
       "    <tr style=\"text-align: right;\">\n",
       "      <th></th>\n",
       "      <th>Gender</th>\n",
       "      <th>Year</th>\n",
       "      <th>Trip Type</th>\n",
       "      <th>Order Type</th>\n",
       "      <th>Country</th>\n",
       "      <th>Star Rate</th>\n",
       "      <th>Group Type</th>\n",
       "      <th>Meal Option</th>\n",
       "      <th>Destination City</th>\n",
       "      <th>Departure City</th>\n",
       "      <th>...</th>\n",
       "      <th>lat_from</th>\n",
       "      <th>lng_from</th>\n",
       "      <th>lat_to</th>\n",
       "      <th>lng_to</th>\n",
       "      <th>Birthday</th>\n",
       "      <th>Order</th>\n",
       "      <th>Order Date</th>\n",
       "      <th>Trip Start Date</th>\n",
       "      <th>Price</th>\n",
       "      <th>Booking Depth</th>\n",
       "    </tr>\n",
       "    <tr>\n",
       "      <th>Client ID</th>\n",
       "      <th></th>\n",
       "      <th></th>\n",
       "      <th></th>\n",
       "      <th></th>\n",
       "      <th></th>\n",
       "      <th></th>\n",
       "      <th></th>\n",
       "      <th></th>\n",
       "      <th></th>\n",
       "      <th></th>\n",
       "      <th></th>\n",
       "      <th></th>\n",
       "      <th></th>\n",
       "      <th></th>\n",
       "      <th></th>\n",
       "      <th></th>\n",
       "      <th></th>\n",
       "      <th></th>\n",
       "      <th></th>\n",
       "      <th></th>\n",
       "      <th></th>\n",
       "    </tr>\n",
       "  </thead>\n",
       "  <tbody>\n",
       "    <tr>\n",
       "      <th>4197429</th>\n",
       "      <td>1</td>\n",
       "      <td>3</td>\n",
       "      <td>0</td>\n",
       "      <td>0</td>\n",
       "      <td>0</td>\n",
       "      <td>2</td>\n",
       "      <td>0</td>\n",
       "      <td>1</td>\n",
       "      <td>0</td>\n",
       "      <td>1</td>\n",
       "      <td>...</td>\n",
       "      <td>59.939043</td>\n",
       "      <td>30.315816</td>\n",
       "      <td>36.719216</td>\n",
       "      <td>31.568803</td>\n",
       "      <td>672537600.0</td>\n",
       "      <td>4803671</td>\n",
       "      <td>1.612731e+09</td>\n",
       "      <td>1.620086e+09</td>\n",
       "      <td>1718.64</td>\n",
       "      <td>85.136111</td>\n",
       "    </tr>\n",
       "    <tr>\n",
       "      <th>4197517</th>\n",
       "      <td>1</td>\n",
       "      <td>3</td>\n",
       "      <td>0</td>\n",
       "      <td>0</td>\n",
       "      <td>0</td>\n",
       "      <td>1</td>\n",
       "      <td>0</td>\n",
       "      <td>2</td>\n",
       "      <td>20</td>\n",
       "      <td>0</td>\n",
       "      <td>...</td>\n",
       "      <td>55.752044</td>\n",
       "      <td>37.618500</td>\n",
       "      <td>25.079911</td>\n",
       "      <td>55.147475</td>\n",
       "      <td>342230400.0</td>\n",
       "      <td>4803915</td>\n",
       "      <td>1.612775e+09</td>\n",
       "      <td>1.614816e+09</td>\n",
       "      <td>948.45</td>\n",
       "      <td>23.622917</td>\n",
       "    </tr>\n",
       "    <tr>\n",
       "      <th>4197719</th>\n",
       "      <td>1</td>\n",
       "      <td>3</td>\n",
       "      <td>0</td>\n",
       "      <td>0</td>\n",
       "      <td>0</td>\n",
       "      <td>1</td>\n",
       "      <td>0</td>\n",
       "      <td>2</td>\n",
       "      <td>8</td>\n",
       "      <td>0</td>\n",
       "      <td>...</td>\n",
       "      <td>55.752044</td>\n",
       "      <td>37.618500</td>\n",
       "      <td>25.079911</td>\n",
       "      <td>55.147475</td>\n",
       "      <td>-39052800.0</td>\n",
       "      <td>4806034</td>\n",
       "      <td>1.612814e+09</td>\n",
       "      <td>1.633738e+09</td>\n",
       "      <td>2128.15</td>\n",
       "      <td>242.176389</td>\n",
       "    </tr>\n",
       "    <tr>\n",
       "      <th>4199375</th>\n",
       "      <td>1</td>\n",
       "      <td>3</td>\n",
       "      <td>0</td>\n",
       "      <td>0</td>\n",
       "      <td>0</td>\n",
       "      <td>1</td>\n",
       "      <td>0</td>\n",
       "      <td>2</td>\n",
       "      <td>0</td>\n",
       "      <td>0</td>\n",
       "      <td>...</td>\n",
       "      <td>55.752044</td>\n",
       "      <td>37.618500</td>\n",
       "      <td>25.079911</td>\n",
       "      <td>55.147475</td>\n",
       "      <td>-300758400.0</td>\n",
       "      <td>4807039</td>\n",
       "      <td>1.612875e+09</td>\n",
       "      <td>1.614384e+09</td>\n",
       "      <td>993.85</td>\n",
       "      <td>17.468056</td>\n",
       "    </tr>\n",
       "    <tr>\n",
       "      <th>4208819</th>\n",
       "      <td>1</td>\n",
       "      <td>3</td>\n",
       "      <td>0</td>\n",
       "      <td>0</td>\n",
       "      <td>0</td>\n",
       "      <td>3</td>\n",
       "      <td>2</td>\n",
       "      <td>5</td>\n",
       "      <td>31</td>\n",
       "      <td>0</td>\n",
       "      <td>...</td>\n",
       "      <td>55.752044</td>\n",
       "      <td>37.618500</td>\n",
       "      <td>25.079911</td>\n",
       "      <td>55.147475</td>\n",
       "      <td>484704000.0</td>\n",
       "      <td>4808190</td>\n",
       "      <td>1.612892e+09</td>\n",
       "      <td>1.622938e+09</td>\n",
       "      <td>1121.02</td>\n",
       "      <td>116.265278</td>\n",
       "    </tr>\n",
       "    <tr>\n",
       "      <th>...</th>\n",
       "      <td>...</td>\n",
       "      <td>...</td>\n",
       "      <td>...</td>\n",
       "      <td>...</td>\n",
       "      <td>...</td>\n",
       "      <td>...</td>\n",
       "      <td>...</td>\n",
       "      <td>...</td>\n",
       "      <td>...</td>\n",
       "      <td>...</td>\n",
       "      <td>...</td>\n",
       "      <td>...</td>\n",
       "      <td>...</td>\n",
       "      <td>...</td>\n",
       "      <td>...</td>\n",
       "      <td>...</td>\n",
       "      <td>...</td>\n",
       "      <td>...</td>\n",
       "      <td>...</td>\n",
       "      <td>...</td>\n",
       "      <td>...</td>\n",
       "    </tr>\n",
       "    <tr>\n",
       "      <th>4141955</th>\n",
       "      <td>0</td>\n",
       "      <td>3</td>\n",
       "      <td>4</td>\n",
       "      <td>0</td>\n",
       "      <td>2</td>\n",
       "      <td>4</td>\n",
       "      <td>1</td>\n",
       "      <td>3</td>\n",
       "      <td>80</td>\n",
       "      <td>0</td>\n",
       "      <td>...</td>\n",
       "      <td>55.752044</td>\n",
       "      <td>37.618500</td>\n",
       "      <td>25.079911</td>\n",
       "      <td>55.147475</td>\n",
       "      <td>160704000.0</td>\n",
       "      <td>4778962</td>\n",
       "      <td>1.611759e+09</td>\n",
       "      <td>1.612570e+09</td>\n",
       "      <td>1164.77</td>\n",
       "      <td>9.376389</td>\n",
       "    </tr>\n",
       "    <tr>\n",
       "      <th>4141837</th>\n",
       "      <td>0</td>\n",
       "      <td>3</td>\n",
       "      <td>0</td>\n",
       "      <td>0</td>\n",
       "      <td>0</td>\n",
       "      <td>2</td>\n",
       "      <td>3</td>\n",
       "      <td>1</td>\n",
       "      <td>0</td>\n",
       "      <td>1</td>\n",
       "      <td>...</td>\n",
       "      <td>59.939043</td>\n",
       "      <td>30.315816</td>\n",
       "      <td>36.719216</td>\n",
       "      <td>31.568803</td>\n",
       "      <td>335577600.0</td>\n",
       "      <td>4778919</td>\n",
       "      <td>1.611759e+09</td>\n",
       "      <td>1.619395e+09</td>\n",
       "      <td>468.29</td>\n",
       "      <td>88.384028</td>\n",
       "    </tr>\n",
       "    <tr>\n",
       "      <th>4142747</th>\n",
       "      <td>0</td>\n",
       "      <td>3</td>\n",
       "      <td>0</td>\n",
       "      <td>0</td>\n",
       "      <td>0</td>\n",
       "      <td>2</td>\n",
       "      <td>1</td>\n",
       "      <td>1</td>\n",
       "      <td>19</td>\n",
       "      <td>0</td>\n",
       "      <td>...</td>\n",
       "      <td>55.752044</td>\n",
       "      <td>37.618500</td>\n",
       "      <td>25.079911</td>\n",
       "      <td>55.147475</td>\n",
       "      <td>805334400.0</td>\n",
       "      <td>4779312</td>\n",
       "      <td>1.611766e+09</td>\n",
       "      <td>1.625789e+09</td>\n",
       "      <td>1008.25</td>\n",
       "      <td>162.303472</td>\n",
       "    </tr>\n",
       "    <tr>\n",
       "      <th>4148875</th>\n",
       "      <td>0</td>\n",
       "      <td>2</td>\n",
       "      <td>1</td>\n",
       "      <td>2</td>\n",
       "      <td>0</td>\n",
       "      <td>1</td>\n",
       "      <td>1</td>\n",
       "      <td>2</td>\n",
       "      <td>2</td>\n",
       "      <td>0</td>\n",
       "      <td>...</td>\n",
       "      <td>55.752044</td>\n",
       "      <td>37.618500</td>\n",
       "      <td>36.669941</td>\n",
       "      <td>30.547663</td>\n",
       "      <td>20304000.0</td>\n",
       "      <td>4600713</td>\n",
       "      <td>1.598475e+09</td>\n",
       "      <td>1.599350e+09</td>\n",
       "      <td>2435.55</td>\n",
       "      <td>10.129861</td>\n",
       "    </tr>\n",
       "    <tr>\n",
       "      <th>4153319</th>\n",
       "      <td>0</td>\n",
       "      <td>3</td>\n",
       "      <td>0</td>\n",
       "      <td>0</td>\n",
       "      <td>0</td>\n",
       "      <td>1</td>\n",
       "      <td>1</td>\n",
       "      <td>2</td>\n",
       "      <td>0</td>\n",
       "      <td>1</td>\n",
       "      <td>...</td>\n",
       "      <td>59.939043</td>\n",
       "      <td>30.315816</td>\n",
       "      <td>36.719216</td>\n",
       "      <td>31.568803</td>\n",
       "      <td>331516800.0</td>\n",
       "      <td>4783846</td>\n",
       "      <td>1.611937e+09</td>\n",
       "      <td>1.627085e+09</td>\n",
       "      <td>2142.70</td>\n",
       "      <td>175.318750</td>\n",
       "    </tr>\n",
       "  </tbody>\n",
       "</table>\n",
       "<p>162140 rows × 45 columns</p>\n",
       "</div>"
      ],
      "text/plain": [
       "           Gender  Year  Trip Type  Order Type  Country  Star Rate  \\\n",
       "Client ID                                                            \n",
       "4197429         1     3          0           0        0          2   \n",
       "4197517         1     3          0           0        0          1   \n",
       "4197719         1     3          0           0        0          1   \n",
       "4199375         1     3          0           0        0          1   \n",
       "4208819         1     3          0           0        0          3   \n",
       "...           ...   ...        ...         ...      ...        ...   \n",
       "4141955         0     3          4           0        2          4   \n",
       "4141837         0     3          0           0        0          2   \n",
       "4142747         0     3          0           0        0          2   \n",
       "4148875         0     2          1           2        0          1   \n",
       "4153319         0     3          0           0        0          1   \n",
       "\n",
       "           Group Type  Meal Option  Destination City  Departure City  ...  \\\n",
       "Client ID                                                             ...   \n",
       "4197429             0            1                 0               1  ...   \n",
       "4197517             0            2                20               0  ...   \n",
       "4197719             0            2                 8               0  ...   \n",
       "4199375             0            2                 0               0  ...   \n",
       "4208819             2            5                31               0  ...   \n",
       "...               ...          ...               ...             ...  ...   \n",
       "4141955             1            3                80               0  ...   \n",
       "4141837             3            1                 0               1  ...   \n",
       "4142747             1            1                19               0  ...   \n",
       "4148875             1            2                 2               0  ...   \n",
       "4153319             1            2                 0               1  ...   \n",
       "\n",
       "            lat_from   lng_from     lat_to     lng_to     Birthday    Order  \\\n",
       "Client ID                                                                     \n",
       "4197429    59.939043  30.315816  36.719216  31.568803  672537600.0  4803671   \n",
       "4197517    55.752044  37.618500  25.079911  55.147475  342230400.0  4803915   \n",
       "4197719    55.752044  37.618500  25.079911  55.147475  -39052800.0  4806034   \n",
       "4199375    55.752044  37.618500  25.079911  55.147475 -300758400.0  4807039   \n",
       "4208819    55.752044  37.618500  25.079911  55.147475  484704000.0  4808190   \n",
       "...              ...        ...        ...        ...          ...      ...   \n",
       "4141955    55.752044  37.618500  25.079911  55.147475  160704000.0  4778962   \n",
       "4141837    59.939043  30.315816  36.719216  31.568803  335577600.0  4778919   \n",
       "4142747    55.752044  37.618500  25.079911  55.147475  805334400.0  4779312   \n",
       "4148875    55.752044  37.618500  36.669941  30.547663   20304000.0  4600713   \n",
       "4153319    59.939043  30.315816  36.719216  31.568803  331516800.0  4783846   \n",
       "\n",
       "             Order Date  Trip Start Date    Price  Booking Depth  \n",
       "Client ID                                                         \n",
       "4197429    1.612731e+09     1.620086e+09  1718.64      85.136111  \n",
       "4197517    1.612775e+09     1.614816e+09   948.45      23.622917  \n",
       "4197719    1.612814e+09     1.633738e+09  2128.15     242.176389  \n",
       "4199375    1.612875e+09     1.614384e+09   993.85      17.468056  \n",
       "4208819    1.612892e+09     1.622938e+09  1121.02     116.265278  \n",
       "...                 ...              ...      ...            ...  \n",
       "4141955    1.611759e+09     1.612570e+09  1164.77       9.376389  \n",
       "4141837    1.611759e+09     1.619395e+09   468.29      88.384028  \n",
       "4142747    1.611766e+09     1.625789e+09  1008.25     162.303472  \n",
       "4148875    1.598475e+09     1.599350e+09  2435.55      10.129861  \n",
       "4153319    1.611937e+09     1.627085e+09  2142.70     175.318750  \n",
       "\n",
       "[162140 rows x 45 columns]"
      ]
     },
     "execution_count": 28,
     "metadata": {},
     "output_type": "execute_result"
    }
   ],
   "source": [
    "df"
   ]
  },
  {
   "cell_type": "markdown",
   "metadata": {},
   "source": [
    "# Цена"
   ]
  },
  {
   "cell_type": "code",
   "execution_count": 57,
   "metadata": {},
   "outputs": [
    {
     "name": "stdout",
     "output_type": "stream",
     "text": [
      "(162140, 23) (162140,)\n"
     ]
    }
   ],
   "source": [
    "X = df.loc[:, df.columns != 'Price']\n",
    "y = df['Price']\n",
    "print(X.shape, y.shape)\n",
    "X_train, X_test, y_train, y_test = train_test_split(X, y, test_size=0.2, random_state=42)"
   ]
  },
  {
   "cell_type": "code",
   "execution_count": 58,
   "metadata": {},
   "outputs": [
    {
     "name": "stdout",
     "output_type": "stream",
     "text": [
      "Learning rate set to 0.092792\n",
      "0:\tlearn: 1620.2081366\ttotal: 13.5ms\tremaining: 13.5s\n",
      "500:\tlearn: 685.4495442\ttotal: 5.5s\tremaining: 5.48s\n",
      "999:\tlearn: 614.1768552\ttotal: 10.6s\tremaining: 0us\n"
     ]
    },
    {
     "data": {
      "text/plain": [
       "<catboost.core.CatBoostRegressor at 0x7fd4b3dd3310>"
      ]
     },
     "execution_count": 58,
     "metadata": {},
     "output_type": "execute_result"
    }
   ],
   "source": [
    "model = catboost.CatBoostRegressor()\n",
    "model.fit(X_train, y_train, verbose=500)"
   ]
  },
  {
   "cell_type": "code",
   "execution_count": 41,
   "metadata": {},
   "outputs": [
    {
     "data": {
      "text/plain": [
       "array([5337.58697916, 2760.01220912,  776.88271645, ..., 1533.07369912,\n",
       "       1022.81594485, 3178.19533885])"
      ]
     },
     "execution_count": 41,
     "metadata": {},
     "output_type": "execute_result"
    }
   ],
   "source": [
    "model.predict(X_test)"
   ]
  },
  {
   "cell_type": "code",
   "execution_count": 61,
   "metadata": {},
   "outputs": [
    {
     "data": {
      "text/plain": [
       "416.7255787433235"
      ]
     },
     "execution_count": 61,
     "metadata": {},
     "output_type": "execute_result"
    }
   ],
   "source": [
    "from sklearn.metrics import mean_squared_error, mean_absolute_error\n",
    "\n",
    "preds = model.predict(X_test)\n",
    "\n",
    "rmse = mean_absolute_error(y_test.values, preds)\n",
    "# print(np.sqrt(rmse))\n",
    "rmse\n",
    "# model.eval_metrics(X_test, metrics=['MAE', 'RMSE'])"
   ]
  },
  {
   "cell_type": "code",
   "execution_count": 51,
   "metadata": {},
   "outputs": [
    {
     "data": {
      "text/plain": [
       "array([4367.  , 2845.23,  942.77, ..., 1230.6 ,  801.  , 3001.07])"
      ]
     },
     "execution_count": 51,
     "metadata": {},
     "output_type": "execute_result"
    }
   ],
   "source": [
    "y_test.values"
   ]
  },
  {
   "cell_type": "markdown",
   "metadata": {},
   "source": [
    "# Тип питания"
   ]
  },
  {
   "cell_type": "code",
   "execution_count": 62,
   "metadata": {},
   "outputs": [
    {
     "name": "stdout",
     "output_type": "stream",
     "text": [
      "(162140, 23) (162140,)\n"
     ]
    }
   ],
   "source": [
    "X = df.loc[:, df.columns != 'Meal Option']\n",
    "y = df['Meal Option']\n",
    "print(X.shape, y.shape)\n",
    "X_train, X_test, y_train, y_test = train_test_split(X, y, test_size=0.2, random_state=42)"
   ]
  },
  {
   "cell_type": "code",
   "execution_count": 63,
   "metadata": {},
   "outputs": [
    {
     "name": "stdout",
     "output_type": "stream",
     "text": [
      "Learning rate set to 0.101411\n",
      "0:\tlearn: 1.6345281\ttotal: 113ms\tremaining: 1m 52s\n",
      "500:\tlearn: 0.2781199\ttotal: 41.7s\tremaining: 41.6s\n",
      "999:\tlearn: 0.2316647\ttotal: 1m 21s\tremaining: 0us\n"
     ]
    },
    {
     "data": {
      "text/plain": [
       "<catboost.core.CatBoostClassifier at 0x7fd4b45c1690>"
      ]
     },
     "execution_count": 63,
     "metadata": {},
     "output_type": "execute_result"
    }
   ],
   "source": [
    "clf = catboost.CatBoostClassifier()\n",
    "clf.fit(X_train, y_train, verbose=500)"
   ]
  },
  {
   "cell_type": "code",
   "execution_count": 64,
   "metadata": {},
   "outputs": [
    {
     "data": {
      "text/plain": [
       "0.890650055507586"
      ]
     },
     "execution_count": 64,
     "metadata": {},
     "output_type": "execute_result"
    }
   ],
   "source": [
    "from sklearn.metrics import accuracy_score\n",
    "\n",
    "preds = clf.predict(X_test)\n",
    "acc = accuracy_score(y_test, preds)\n",
    "acc"
   ]
  },
  {
   "cell_type": "code",
   "execution_count": 69,
   "metadata": {},
   "outputs": [],
   "source": [
    "d = {}\n",
    "for item in preds:\n",
    "    for pred in item:\n",
    "        if pred not in d:\n",
    "            d[pred] = 1\n",
    "        else:\n",
    "            d[pred] += 1"
   ]
  },
  {
   "cell_type": "code",
   "execution_count": 71,
   "metadata": {},
   "outputs": [
    {
     "data": {
      "text/plain": [
       "(32428, 23)"
      ]
     },
     "execution_count": 71,
     "metadata": {},
     "output_type": "execute_result"
    }
   ],
   "source": [
    "X_test.shape"
   ]
  },
  {
   "cell_type": "markdown",
   "metadata": {},
   "source": [
    "# Звездность"
   ]
  },
  {
   "cell_type": "code",
   "execution_count": 72,
   "metadata": {},
   "outputs": [
    {
     "name": "stdout",
     "output_type": "stream",
     "text": [
      "(162140, 23) (162140,)\n"
     ]
    }
   ],
   "source": [
    "X = df.loc[:, df.columns != 'Star Rate']\n",
    "y = df['Star Rate']\n",
    "print(X.shape, y.shape)\n",
    "X_train, X_test, y_train, y_test = train_test_split(X, y, test_size=0.2, random_state=42)"
   ]
  },
  {
   "cell_type": "code",
   "execution_count": 74,
   "metadata": {},
   "outputs": [
    {
     "name": "stdout",
     "output_type": "stream",
     "text": [
      "Learning rate set to 0.101411\n",
      "0:\tlearn: 1.5252660\ttotal: 80.5ms\tremaining: 1m 20s\n",
      "500:\tlearn: 0.2067484\ttotal: 34.8s\tremaining: 34.7s\n",
      "999:\tlearn: 0.1698442\ttotal: 1m 11s\tremaining: 0us\n"
     ]
    },
    {
     "data": {
      "text/plain": [
       "<catboost.core.CatBoostClassifier at 0x7fd4b45c1690>"
      ]
     },
     "execution_count": 74,
     "metadata": {},
     "output_type": "execute_result"
    }
   ],
   "source": [
    "clf_star = catboost.CatBoostClassifier()\n",
    "clf._star.fit(X_train, y_train, verbose=500)"
   ]
  },
  {
   "cell_type": "code",
   "execution_count": null,
   "metadata": {},
   "outputs": [],
   "source": [
    "from sklearn.metrics import accuracy_score\n",
    "\n",
    "preds = clf_star.predict(X_test)\n",
    "acc = accuracy_score(y_test, preds)\n",
    "acc"
   ]
  },
  {
   "cell_type": "markdown",
   "metadata": {},
   "source": [
    "# Продолжительность"
   ]
  },
  {
   "cell_type": "code",
   "execution_count": 86,
   "metadata": {},
   "outputs": [
    {
     "name": "stdout",
     "output_type": "stream",
     "text": [
      "(162140, 23) (162140,)\n"
     ]
    }
   ],
   "source": [
    "X = df.loc[:, df.columns != 'N Nights']\n",
    "y = df['N Nights']\n",
    "print(X.shape, y.shape)\n",
    "X_train, X_test, y_train, y_test = train_test_split(X, y, test_size=0.5, random_state=42)"
   ]
  },
  {
   "cell_type": "code",
   "execution_count": 89,
   "metadata": {},
   "outputs": [
    {
     "name": "stdout",
     "output_type": "stream",
     "text": [
      "Learning rate set to 0.085345\n",
      "0:\tlearn: 3.7583508\ttotal: 14.3ms\tremaining: 14.3s\n",
      "500:\tlearn: 3.0459909\ttotal: 3.86s\tremaining: 3.85s\n",
      "999:\tlearn: 2.9094843\ttotal: 8.15s\tremaining: 0us\n"
     ]
    },
    {
     "data": {
      "text/plain": [
       "<catboost.core.CatBoostRegressor at 0x7fd4ad3136d0>"
      ]
     },
     "execution_count": 89,
     "metadata": {},
     "output_type": "execute_result"
    }
   ],
   "source": [
    "clf_nights = catboost.CatBoostRegressor()\n",
    "clf_nights.fit(X_train, y_train, verbose=500)"
   ]
  },
  {
   "cell_type": "code",
   "execution_count": 88,
   "metadata": {},
   "outputs": [
    {
     "data": {
      "text/plain": [
       "0.3798815838164549"
      ]
     },
     "execution_count": 88,
     "metadata": {},
     "output_type": "execute_result"
    }
   ],
   "source": [
    "from sklearn.metrics import accuracy_score\n",
    "\n",
    "preds = clf_nights.predict(X_test)\n",
    "acc = accuracy_score(y_test, preds)\n",
    "acc"
   ]
  },
  {
   "cell_type": "code",
   "execution_count": 103,
   "metadata": {},
   "outputs": [
    {
     "data": {
      "text/plain": [
       "2.353472307882077"
      ]
     },
     "execution_count": 103,
     "metadata": {},
     "output_type": "execute_result"
    }
   ],
   "source": [
    "from sklearn.metrics import mean_squared_error, mean_absolute_error\n",
    "\n",
    "preds = clf_nights.predict(X_test)\n",
    "round_preds = np.around(preds)\n",
    "\n",
    "rmse = mean_absolute_error(y_test.values, round_preds)\n",
    "# rmse = mean_squared_error(y_test.values, round_preds)\n",
    "# print(np.sqrt(rmse))\n",
    "rmse\n",
    "# model.eval_metrics(X_test, metrics=['MAE', 'RMSE'])"
   ]
  },
  {
   "cell_type": "markdown",
   "metadata": {},
   "source": [
    "# Курорт"
   ]
  },
  {
   "cell_type": "code",
   "execution_count": 9,
   "metadata": {},
   "outputs": [],
   "source": [
    "# -- // --"
   ]
  },
  {
   "cell_type": "code",
   "execution_count": null,
   "metadata": {},
   "outputs": [],
   "source": []
  },
  {
   "cell_type": "code",
   "execution_count": null,
   "metadata": {},
   "outputs": [],
   "source": []
  },
  {
   "cell_type": "markdown",
   "metadata": {},
   "source": [
    "## Use class"
   ]
  },
  {
   "cell_type": "code",
   "execution_count": 29,
   "metadata": {},
   "outputs": [],
   "source": [
    "from modniy_class import Reccommender"
   ]
  },
  {
   "cell_type": "code",
   "execution_count": 30,
   "metadata": {},
   "outputs": [],
   "source": [
    "rec = Reccommender()"
   ]
  },
  {
   "cell_type": "code",
   "execution_count": null,
   "metadata": {},
   "outputs": [],
   "source": [
    "report = rec.fit(train=df.dropna())"
   ]
  },
  {
   "cell_type": "code",
   "execution_count": null,
   "metadata": {},
   "outputs": [],
   "source": []
  },
  {
   "cell_type": "code",
   "execution_count": 83,
   "metadata": {},
   "outputs": [],
   "source": [
    "def get_user_pred(_id):\n",
    "    d = {}\n",
    "    \n",
    "    _user = df.loc[[_id]].drop(columns='Price')\n",
    "    d['reg_price'] = rec.reg_price.predict(_user)\n",
    "    \n",
    "    _user = df.loc[[_id]].drop(columns='Meal Option')\n",
    "    d['clf_meal'] = rec.clf_meal.predict(_user)[0]\n",
    "    \n",
    "    _user = df.loc[[_id]].drop(columns='Star Rate')\n",
    "    d['clf_star'] = rec.clf_star.predict(_user)[0]\n",
    "    \n",
    "    _user = df.loc[[_id]].drop(columns='N Nights')\n",
    "    d['reg_dur'] = np.round(rec.reg_dur.predict(_user))\n",
    "    \n",
    "    return d"
   ]
  },
  {
   "cell_type": "code",
   "execution_count": 92,
   "metadata": {},
   "outputs": [],
   "source": [
    "def get_users_pred(df):\n",
    "    ids = df.index.values\n",
    "    pred = pd.DataFrame(index=df.index)\n",
    "    \n",
    "    users = df.drop(columns='Price')\n",
    "    pred['reg_price'] = rec.reg_price.predict(users)\n",
    "    \n",
    "    users = df.drop(columns='Meal Option')\n",
    "    pred['clf_meal'] = rec.clf_meal.predict(users)\n",
    "    \n",
    "    users = df.drop(columns='Star Rate')\n",
    "    pred['clf_star'] = rec.clf_star.predict(users)\n",
    "    \n",
    "    users = df.drop(columns='N Nights')\n",
    "    pred['reg_dur'] = np.round(rec.reg_dur.predict(users))\n",
    "    \n",
    "    return pred"
   ]
  },
  {
   "cell_type": "code",
   "execution_count": 95,
   "metadata": {},
   "outputs": [],
   "source": [
    "preds = get_users_pred(df)"
   ]
  },
  {
   "cell_type": "code",
   "execution_count": 96,
   "metadata": {},
   "outputs": [
    {
     "data": {
      "text/html": [
       "<div>\n",
       "<style scoped>\n",
       "    .dataframe tbody tr th:only-of-type {\n",
       "        vertical-align: middle;\n",
       "    }\n",
       "\n",
       "    .dataframe tbody tr th {\n",
       "        vertical-align: top;\n",
       "    }\n",
       "\n",
       "    .dataframe thead th {\n",
       "        text-align: right;\n",
       "    }\n",
       "</style>\n",
       "<table border=\"1\" class=\"dataframe\">\n",
       "  <thead>\n",
       "    <tr style=\"text-align: right;\">\n",
       "      <th></th>\n",
       "      <th>reg_price</th>\n",
       "      <th>clf_meal</th>\n",
       "      <th>clf_star</th>\n",
       "      <th>reg_dur</th>\n",
       "    </tr>\n",
       "    <tr>\n",
       "      <th>Client ID</th>\n",
       "      <th></th>\n",
       "      <th></th>\n",
       "      <th></th>\n",
       "      <th></th>\n",
       "    </tr>\n",
       "  </thead>\n",
       "  <tbody>\n",
       "    <tr>\n",
       "      <th>4197429</th>\n",
       "      <td>2615.451279</td>\n",
       "      <td>1</td>\n",
       "      <td>1</td>\n",
       "      <td>3.0</td>\n",
       "    </tr>\n",
       "    <tr>\n",
       "      <th>4197517</th>\n",
       "      <td>1143.598901</td>\n",
       "      <td>2</td>\n",
       "      <td>1</td>\n",
       "      <td>6.0</td>\n",
       "    </tr>\n",
       "    <tr>\n",
       "      <th>4197719</th>\n",
       "      <td>2777.547691</td>\n",
       "      <td>2</td>\n",
       "      <td>1</td>\n",
       "      <td>6.0</td>\n",
       "    </tr>\n",
       "    <tr>\n",
       "      <th>4199375</th>\n",
       "      <td>1322.732137</td>\n",
       "      <td>2</td>\n",
       "      <td>1</td>\n",
       "      <td>1.0</td>\n",
       "    </tr>\n",
       "    <tr>\n",
       "      <th>4208819</th>\n",
       "      <td>1423.836085</td>\n",
       "      <td>5</td>\n",
       "      <td>3</td>\n",
       "      <td>5.0</td>\n",
       "    </tr>\n",
       "    <tr>\n",
       "      <th>...</th>\n",
       "      <td>...</td>\n",
       "      <td>...</td>\n",
       "      <td>...</td>\n",
       "      <td>...</td>\n",
       "    </tr>\n",
       "    <tr>\n",
       "      <th>4141955</th>\n",
       "      <td>580.222171</td>\n",
       "      <td>3</td>\n",
       "      <td>4</td>\n",
       "      <td>5.0</td>\n",
       "    </tr>\n",
       "    <tr>\n",
       "      <th>4141837</th>\n",
       "      <td>547.634125</td>\n",
       "      <td>1</td>\n",
       "      <td>1</td>\n",
       "      <td>4.0</td>\n",
       "    </tr>\n",
       "    <tr>\n",
       "      <th>4142747</th>\n",
       "      <td>972.142858</td>\n",
       "      <td>1</td>\n",
       "      <td>2</td>\n",
       "      <td>1.0</td>\n",
       "    </tr>\n",
       "    <tr>\n",
       "      <th>4148875</th>\n",
       "      <td>3172.184989</td>\n",
       "      <td>2</td>\n",
       "      <td>1</td>\n",
       "      <td>0.0</td>\n",
       "    </tr>\n",
       "    <tr>\n",
       "      <th>4153319</th>\n",
       "      <td>2117.907350</td>\n",
       "      <td>2</td>\n",
       "      <td>1</td>\n",
       "      <td>1.0</td>\n",
       "    </tr>\n",
       "  </tbody>\n",
       "</table>\n",
       "<p>162140 rows × 4 columns</p>\n",
       "</div>"
      ],
      "text/plain": [
       "             reg_price  clf_meal  clf_star  reg_dur\n",
       "Client ID                                          \n",
       "4197429    2615.451279         1         1      3.0\n",
       "4197517    1143.598901         2         1      6.0\n",
       "4197719    2777.547691         2         1      6.0\n",
       "4199375    1322.732137         2         1      1.0\n",
       "4208819    1423.836085         5         3      5.0\n",
       "...                ...       ...       ...      ...\n",
       "4141955     580.222171         3         4      5.0\n",
       "4141837     547.634125         1         1      4.0\n",
       "4142747     972.142858         1         2      1.0\n",
       "4148875    3172.184989         2         1      0.0\n",
       "4153319    2117.907350         2         1      1.0\n",
       "\n",
       "[162140 rows x 4 columns]"
      ]
     },
     "execution_count": 96,
     "metadata": {},
     "output_type": "execute_result"
    }
   ],
   "source": [
    "preds"
   ]
  },
  {
   "cell_type": "code",
   "execution_count": null,
   "metadata": {},
   "outputs": [],
   "source": []
  }
 ],
 "metadata": {
  "kernelspec": {
   "display_name": "Python 3",
   "language": "python",
   "name": "python3"
  },
  "language_info": {
   "codemirror_mode": {
    "name": "ipython",
    "version": 3
   },
   "file_extension": ".py",
   "mimetype": "text/x-python",
   "name": "python",
   "nbconvert_exporter": "python",
   "pygments_lexer": "ipython3",
   "version": "3.7.7"
  }
 },
 "nbformat": 4,
 "nbformat_minor": 2
}
