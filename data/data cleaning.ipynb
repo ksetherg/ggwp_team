{
 "cells": [
  {
   "cell_type": "code",
   "execution_count": null,
   "metadata": {},
   "outputs": [],
   "source": [
    "import pandas as pd\n",
    "import numpy as np"
   ]
  },
  {
   "cell_type": "code",
   "execution_count": null,
   "metadata": {},
   "outputs": [],
   "source": [
    "df = pd.read_excel('Dataset.xlsx')  "
   ]
  },
  {
   "cell_type": "code",
   "execution_count": null,
   "metadata": {},
   "outputs": [],
   "source": [
    "df.head()"
   ]
  },
  {
   "cell_type": "code",
   "execution_count": null,
   "metadata": {},
   "outputs": [],
   "source": [
    "col_names = {'Пол (Клиент) (Контакт)': 'Gender', 'День рождения (Клиент) (Контакт)': 'Birthday', \n",
    "            'Возраст клиента (корректный) (Клиент) (Контакт)': 'Age', 'Заявка № (Заявка) (Заявка)': 'Order', \n",
    "            'Дата бронирования (Заявка) (Заявка)': 'Order Date', 'Дата начала тура (Заявка) (Заявка)': 'Trip Start Date',\n",
    "            'Год': 'Year', 'Ночей (Заявка) (Заявка)': 'N Nights', 'Вид тура (Заявка) (Заявка)': 'Trip Type', \n",
    "            'Тип заявки (Заявка) (Заявка)': 'Order Type', 'Страна тура (Заявка) (Заявка)': 'Country', \n",
    "            'Регион отеля (Заявка) (Заявка)': 'Region', 'Туристов (Заявка) (Заявка)': 'N Tourists',\n",
    "            'Туристы, взрослые (Заявка) (Заявка)': 'Adult Tourists', 'Туристы, дети (Заявка) (Заявка)': 'Kid Tourists',\n",
    "            'Младенцы (Заявка) (Заявка)': 'Baby Tourists', 'Звездность (Заявка) (Заявка)': 'Star Rate', \n",
    "            'Состав группы (Заявка) (Заявка)': 'Group Type', 'Сумма в $ (Заявка) (Заявка)': 'Price', \n",
    "            'Наименование тура (Заявка) (Заявка)': 'Trip Name', 'ИД клиента (Клиент) (Контакт)': 'Client ID', \n",
    "            'Глубина продаж (Заявка) (Заявка)': 'Booking Depth', 'Тип питания (Заявка) (Заявка)': 'Meal Option', \n",
    "            'Город Отеля (Заявка) (Заявка)': 'Destination City', 'Город отправления (Заявка) (Заявка)': 'Departure City'}"
   ]
  },
  {
   "cell_type": "code",
   "execution_count": null,
   "metadata": {},
   "outputs": [],
   "source": [
    "df = df.rename(columns=col_names)"
   ]
  },
  {
   "cell_type": "code",
   "execution_count": null,
   "metadata": {},
   "outputs": [],
   "source": [
    "df['Birthday'] = pd.to_datetime(df['Birthday'])\n",
    "df['Order Date'] = pd.to_datetime(df['Order Date'])\n",
    "df['Trip Start Date'] = pd.to_datetime(df['Trip Start Date'])\n",
    "df['Booking Depth'] = pd.to_timedelta(df['Booking Depth'], unit='D')"
   ]
  },
  {
   "cell_type": "code",
   "execution_count": null,
   "metadata": {},
   "outputs": [],
   "source": []
  },
  {
   "cell_type": "code",
   "execution_count": null,
   "metadata": {},
   "outputs": [],
   "source": [
    "stars_map = {'4*': 4, '5*': 5, '3*': 3, '3*-4*': 3.5, 'HV1': 'HV1'}\n",
    "df['Star Rate'] = df['Star Rate'].map(stars_map)"
   ]
  },
  {
   "cell_type": "code",
   "execution_count": null,
   "metadata": {},
   "outputs": [],
   "source": []
  },
  {
   "cell_type": "code",
   "execution_count": null,
   "metadata": {},
   "outputs": [],
   "source": [
    "meal_map = {'Ultra All Exclusive': 'UAI', 'Premium All Inclusive': 'UAI', 'PALAZZO ALL INCLUSIVE': 'UAI', \n",
    "           'AIP': 'UAI', 'AXI': 'UAI', 'EAI': 'UAI', 'All Inclusive': 'AI', 'RO': 'RO', 'BB': 'BB', 'FB': 'FB', 'HB': 'HB', 'BB+FB':'BB+FB'} \n",
    "\n",
    "df['Meal Option'] = df['Meal Option'].map(meal_map)"
   ]
  },
  {
   "cell_type": "code",
   "execution_count": null,
   "metadata": {},
   "outputs": [],
   "source": [
    "df = df.set_index(['Order', 'Client ID'])"
   ]
  },
  {
   "cell_type": "code",
   "execution_count": null,
   "metadata": {},
   "outputs": [],
   "source": [
    "thresh_min = 16 # could be smaller e.g. 16\n",
    "# thresh_max = 60 \n",
    "df = df.loc[df['Age'] >= thresh_min]\n",
    "# df = df.loc[df['Age'] <= thresh_max]"
   ]
  },
  {
   "cell_type": "code",
   "execution_count": null,
   "metadata": {},
   "outputs": [],
   "source": [
    "def categorize(series):\n",
    "    tmp_dict = series.value_counts().to_dict()\n",
    "    tmp_list = sorted(tmp_dict.items(), key=lambda item: -item[1])\n",
    "    map_dict = {}\n",
    "    for i, item in enumerate(tmp_list):\n",
    "        map_dict[item[0]] = i\n",
    "    cat_series = series.map(map_dict)\n",
    "    return cat_series, map_dict"
   ]
  },
  {
   "cell_type": "code",
   "execution_count": null,
   "metadata": {},
   "outputs": [],
   "source": [
    "df['Gender'], gender_map = categorize(df['Gender'])"
   ]
  },
  {
   "cell_type": "code",
   "execution_count": null,
   "metadata": {},
   "outputs": [],
   "source": [
    "df['Trip Type'], trip_type_map = categorize(df['Trip Type'])"
   ]
  },
  {
   "cell_type": "code",
   "execution_count": null,
   "metadata": {},
   "outputs": [],
   "source": [
    "df['Order Type'], order_type_map = categorize(df['Order Type'])"
   ]
  },
  {
   "cell_type": "code",
   "execution_count": null,
   "metadata": {},
   "outputs": [],
   "source": [
    "df['Country'], country_map = categorize(df['Country'])"
   ]
  },
  {
   "cell_type": "code",
   "execution_count": null,
   "metadata": {},
   "outputs": [],
   "source": [
    "df['Region'], region_map = categorize(df['Region'])"
   ]
  },
  {
   "cell_type": "code",
   "execution_count": null,
   "metadata": {},
   "outputs": [],
   "source": [
    "df['Star Rate'], star_map = categorize(df['Star Rate'])"
   ]
  },
  {
   "cell_type": "code",
   "execution_count": null,
   "metadata": {},
   "outputs": [],
   "source": [
    "df['Group Type'], group_type_map = categorize(df['Group Type'])"
   ]
  },
  {
   "cell_type": "code",
   "execution_count": null,
   "metadata": {},
   "outputs": [],
   "source": [
    "df['Trip Name'], trip_name_map = categorize(df['Trip Name'])"
   ]
  },
  {
   "cell_type": "code",
   "execution_count": null,
   "metadata": {},
   "outputs": [],
   "source": [
    "df['Meal Option'], meal_opt_map = categorize(df['Meal Option'])"
   ]
  },
  {
   "cell_type": "code",
   "execution_count": null,
   "metadata": {},
   "outputs": [],
   "source": [
    "df['Destination City'], dest_city_map = categorize(df['Destination City'])"
   ]
  },
  {
   "cell_type": "code",
   "execution_count": null,
   "metadata": {},
   "outputs": [],
   "source": [
    "df['Departure City'], dep_city_map = categorize(df['Departure City'])"
   ]
  },
  {
   "cell_type": "code",
   "execution_count": null,
   "metadata": {},
   "outputs": [],
   "source": []
  }
 ],
 "metadata": {
  "kernelspec": {
   "display_name": "Python 3",
   "language": "python",
   "name": "python3"
  },
  "language_info": {
   "codemirror_mode": {
    "name": "ipython",
    "version": 3
   },
   "file_extension": ".py",
   "mimetype": "text/x-python",
   "name": "python",
   "nbconvert_exporter": "python",
   "pygments_lexer": "ipython3",
   "version": "3.8.5"
  }
 },
 "nbformat": 4,
 "nbformat_minor": 4
}
