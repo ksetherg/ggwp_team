{
 "cells": [
  {
   "cell_type": "code",
   "execution_count": 1,
   "metadata": {},
   "outputs": [
    {
     "name": "stderr",
     "output_type": "stream",
     "text": [
      "In c:\\programdata\\anaconda3\\envs\\arnold\\lib\\site-packages\\matplotlib\\mpl-data\\stylelib\\_classic_test.mplstyle: \n",
      "The text.latex.preview rcparam was deprecated in Matplotlib 3.3 and will be removed two minor releases later.\n",
      "In c:\\programdata\\anaconda3\\envs\\arnold\\lib\\site-packages\\matplotlib\\mpl-data\\stylelib\\_classic_test.mplstyle: \n",
      "The mathtext.fallback_to_cm rcparam was deprecated in Matplotlib 3.3 and will be removed two minor releases later.\n",
      "In c:\\programdata\\anaconda3\\envs\\arnold\\lib\\site-packages\\matplotlib\\mpl-data\\stylelib\\_classic_test.mplstyle: Support for setting the 'mathtext.fallback_to_cm' rcParam is deprecated since 3.3 and will be removed two minor releases later; use 'mathtext.fallback : 'cm' instead.\n",
      "In c:\\programdata\\anaconda3\\envs\\arnold\\lib\\site-packages\\matplotlib\\mpl-data\\stylelib\\_classic_test.mplstyle: \n",
      "The validate_bool_maybe_none function was deprecated in Matplotlib 3.3 and will be removed two minor releases later.\n",
      "In c:\\programdata\\anaconda3\\envs\\arnold\\lib\\site-packages\\matplotlib\\mpl-data\\stylelib\\_classic_test.mplstyle: \n",
      "The savefig.jpeg_quality rcparam was deprecated in Matplotlib 3.3 and will be removed two minor releases later.\n",
      "In c:\\programdata\\anaconda3\\envs\\arnold\\lib\\site-packages\\matplotlib\\mpl-data\\stylelib\\_classic_test.mplstyle: \n",
      "The keymap.all_axes rcparam was deprecated in Matplotlib 3.3 and will be removed two minor releases later.\n",
      "In c:\\programdata\\anaconda3\\envs\\arnold\\lib\\site-packages\\matplotlib\\mpl-data\\stylelib\\_classic_test.mplstyle: \n",
      "The animation.avconv_path rcparam was deprecated in Matplotlib 3.3 and will be removed two minor releases later.\n",
      "In c:\\programdata\\anaconda3\\envs\\arnold\\lib\\site-packages\\matplotlib\\mpl-data\\stylelib\\_classic_test.mplstyle: \n",
      "The animation.avconv_args rcparam was deprecated in Matplotlib 3.3 and will be removed two minor releases later.\n"
     ]
    }
   ],
   "source": [
    "import pandas as pd\n",
    "import numpy as np\n",
    "from matplotlib import pyplot as plt"
   ]
  },
  {
   "cell_type": "code",
   "execution_count": 2,
   "metadata": {},
   "outputs": [],
   "source": [
    "df = pd.read_csv('Datasetv2.csv')  "
   ]
  },
  {
   "cell_type": "code",
   "execution_count": null,
   "metadata": {},
   "outputs": [],
   "source": [
    "# df.drop(columns=['Unnamed: 0'], inplace=True)"
   ]
  },
  {
   "cell_type": "code",
   "execution_count": null,
   "metadata": {},
   "outputs": [],
   "source": []
  },
  {
   "cell_type": "code",
   "execution_count": 3,
   "metadata": {
    "scrolled": true
   },
   "outputs": [
    {
     "ename": "ModuleNotFoundError",
     "evalue": "No module named 'nltk'",
     "output_type": "error",
     "traceback": [
      "\u001b[1;31m---------------------------------------------------------------------------\u001b[0m",
      "\u001b[1;31mModuleNotFoundError\u001b[0m                       Traceback (most recent call last)",
      "\u001b[1;32m<ipython-input-3-bc174bf44c0a>\u001b[0m in \u001b[0;36m<module>\u001b[1;34m\u001b[0m\n\u001b[1;32m----> 1\u001b[1;33m \u001b[1;32mimport\u001b[0m \u001b[0mnltk\u001b[0m\u001b[1;33m\u001b[0m\u001b[1;33m\u001b[0m\u001b[0m\n\u001b[0m\u001b[0;32m      2\u001b[0m \u001b[1;33m\u001b[0m\u001b[0m\n\u001b[0;32m      3\u001b[0m \u001b[1;32mdef\u001b[0m \u001b[0mextract_entity_names\u001b[0m\u001b[1;33m(\u001b[0m\u001b[0mt\u001b[0m\u001b[1;33m)\u001b[0m\u001b[1;33m:\u001b[0m\u001b[1;33m\u001b[0m\u001b[1;33m\u001b[0m\u001b[0m\n\u001b[0;32m      4\u001b[0m     \u001b[0mentity_names\u001b[0m \u001b[1;33m=\u001b[0m \u001b[1;33m[\u001b[0m\u001b[1;33m]\u001b[0m\u001b[1;33m\u001b[0m\u001b[1;33m\u001b[0m\u001b[0m\n\u001b[0;32m      5\u001b[0m \u001b[1;33m\u001b[0m\u001b[0m\n",
      "\u001b[1;31mModuleNotFoundError\u001b[0m: No module named 'nltk'"
     ]
    }
   ],
   "source": [
    "import nltk\n",
    "\n",
    "def extract_entity_names(t):\n",
    "    entity_names = []\n",
    "\n",
    "    if hasattr(t, 'label') and t.label:\n",
    "        if t.label() == 'NE':\n",
    "            entity_names.append(' '.join([child[0] for child in t]))\n",
    "        else:\n",
    "            for child in t:\n",
    "                entity_names.extend(extract_entity_names(child))\n",
    "\n",
    "    return entity_names"
   ]
  },
  {
   "cell_type": "code",
   "execution_count": null,
   "metadata": {},
   "outputs": [],
   "source": [
    "orig_lines = df['Trip Name'].value_counts().index.to_numpy()"
   ]
  },
  {
   "cell_type": "code",
   "execution_count": null,
   "metadata": {},
   "outputs": [],
   "source": [
    "new_lines = []\n",
    "for line in orig_lines:\n",
    "    s = ''.join([i for i in line if not i.isdigit()])\n",
    "    new_lines.append(s)"
   ]
  },
  {
   "cell_type": "code",
   "execution_count": null,
   "metadata": {},
   "outputs": [],
   "source": [
    "import re\n",
    "new_new_lines = []\n",
    "\n",
    "for line in new_lines:\n",
    "    result = re.sub(\"[\\(\\[].*?[\\)\\]]\", \"\", line)\n",
    "    new_new_lines.append(result)"
   ]
  },
  {
   "cell_type": "code",
   "execution_count": null,
   "metadata": {},
   "outputs": [],
   "source": []
  },
  {
   "cell_type": "code",
   "execution_count": null,
   "metadata": {},
   "outputs": [],
   "source": [
    "lines = [line.replace('TUI', '').replace('Premium', '').replace('SL', '').replace('Prestige', '').replace('.', ' ').replace('-', ' ').replace('+', ' ').replace('*', ' ').replace('RU', '').replace('MOW', '').replace('GDS', '') for line in new_new_lines]"
   ]
  },
  {
   "cell_type": "code",
   "execution_count": null,
   "metadata": {},
   "outputs": [],
   "source": []
  },
  {
   "cell_type": "code",
   "execution_count": null,
   "metadata": {
    "scrolled": true
   },
   "outputs": [],
   "source": [
    "tour_name_map_dict = {}\n",
    "for orig_line, line in zip(orig_lines, lines):\n",
    "    sentences = nltk.sent_tokenize(line)\n",
    "    tokenized_sentences = [nltk.word_tokenize(sentence) for sentence in sentences]\n",
    "    tagged_sentences = [nltk.pos_tag(sentence) for sentence in tokenized_sentences]\n",
    "    chunked_sentences = nltk.ne_chunk_sents(tagged_sentences, binary=True)\n",
    "\n",
    "    entities = []\n",
    "    for tree in chunked_sentences:\n",
    "        entities.extend(extract_entity_names(tree))\n",
    "    if len(entities) > 0:\n",
    "        if 0 < len(entities[0].split()) < 3:\n",
    "            print(orig_line, '#', entities[0].split()[-1])\n",
    "            tour_name_map_dict[orig_line] = entities[0].split()[-1]\n",
    "        elif len(entities[0].split()) >= 3:\n",
    "            print(orig_line, '##', entities)\n",
    "            tour_name_map_dict[orig_line] = entities[0].split()[1]"
   ]
  },
  {
   "cell_type": "code",
   "execution_count": null,
   "metadata": {},
   "outputs": [],
   "source": [
    "tour_name_map_dict['Czech Republic Prague MOW GDS'] = 'Prague'\n",
    "tour_name_map_dict['UAE W17/18 VKO'] = 'Dubai'"
   ]
  },
  {
   "cell_type": "code",
   "execution_count": null,
   "metadata": {},
   "outputs": [],
   "source": [
    "df['Trip Name'] = df['Trip Name'].map(tour_name_map_dict)"
   ]
  },
  {
   "cell_type": "code",
   "execution_count": null,
   "metadata": {},
   "outputs": [],
   "source": [
    "df['Trip Name'].value_counts()"
   ]
  },
  {
   "cell_type": "code",
   "execution_count": null,
   "metadata": {},
   "outputs": [],
   "source": []
  },
  {
   "cell_type": "code",
   "execution_count": null,
   "metadata": {},
   "outputs": [],
   "source": [
    "# df['Age'] = df['Age'].astype(int)\n",
    "# df['Gender'] = df['Gender'].astype(str)\n",
    "# df['Trip Type'] = df['Trip Type'].astype(str)\n",
    "# df['Order Type'] = df['Order Type'].astype(str)\n",
    "# df['Country'] = df['Country'].astype(str)\n",
    "# df['Region'] = df['Region'].astype(str)\n",
    "# df['Star Rate'] = df['Star Rate'].astype(str)\n",
    "# df['Group Type'] = df['Group Type'].astype(str)\n",
    "# df['Trip Name'] = df['Trip Name'].astype(str)\n",
    "# df['Meal Option'] = df['Meal Option'].astype(str)\n",
    "# df['Destination City'] = df['Destination City'].astype(str)\n",
    "# df['Departure City'] = df['Departure City'].astype(str)"
   ]
  },
  {
   "cell_type": "code",
   "execution_count": null,
   "metadata": {},
   "outputs": [],
   "source": [
    "# col_names = {'Пол': 'Gender', 'День рождения': 'Birthday', \n",
    "#             'Возраст клиента': 'Age', 'Заявка № ': 'Order', \n",
    "#             'Дата бронирования': 'Order Date', 'Дата начала тура': 'Trip Start Date',\n",
    "#             'Год': 'Year', 'Ночей': 'N Nights', 'Вид тура': 'Trip Type', \n",
    "#             'Тип заявки': 'Order Type', 'Страна тура': 'Country', \n",
    "#             'Регион отеля': 'Region', 'Туристов': 'N Tourists',\n",
    "#             'Туристы, взрослые': 'Adult Tourists', 'Туристы, дети': 'Kid Tourists',\n",
    "#             'Младенцы': 'Baby Tourists', 'Звездность': 'Star Rate', \n",
    "#             'Состав группы (Заявка) (Заявка)': 'Group Type', 'Сумма в $': 'Price', \n",
    "#             'Наименование тура': 'Trip Name', 'ИД клиента': 'Client ID', \n",
    "#             'Глубина продаж': 'Booking Depth', 'Тип питания': 'Meal Option', \n",
    "#             'Город Отеля': 'Destination City', 'Город отправления': 'Departure City'}\n",
    "# df = df.rename(columns=col_names)"
   ]
  },
  {
   "cell_type": "code",
   "execution_count": null,
   "metadata": {},
   "outputs": [],
   "source": [
    "df['Birthday'] = pd.to_datetime(df['Birthday'])\n",
    "df.loc[df['Birthday'].notnull(), 'Birthday'] = df.loc[df['Birthday'].notnull(), 'Birthday'].apply(lambda x: x.timestamp()) \n",
    "\n",
    "df['Order Date'] = pd.to_datetime(df['Order Date'])\n",
    "df['Order Date'] = df['Order Date'].apply(lambda x: x.timestamp()) \n",
    "\n",
    "df['Trip Start Date'] = pd.to_datetime(df['Trip Start Date'])\n",
    "df['Trip Start Date'] = df['Trip Start Date'].apply(lambda x: x.timestamp()) \n"
   ]
  },
  {
   "cell_type": "code",
   "execution_count": null,
   "metadata": {},
   "outputs": [],
   "source": []
  },
  {
   "cell_type": "code",
   "execution_count": null,
   "metadata": {},
   "outputs": [],
   "source": [
    "# df_meal = pd.read_excel('MEALS - code.xlsx')\n",
    "# df_meal['Unnamed: 0'] = df_meal['Unnamed: 0'].astype(str)\n",
    "# df_meal.set_index(['Unnamed: 0'], inplace=True)\n",
    "# meal_map = df_meal['Code meal'].to_dict()\n",
    "# df['Meal Option'] = df['Meal Option'].map(meal_map)"
   ]
  },
  {
   "cell_type": "code",
   "execution_count": null,
   "metadata": {},
   "outputs": [],
   "source": [
    "# df_stars = pd.read_excel('STARS - code.xlsx')\n",
    "# df_stars['Unnamed: 0'] = df_stars['Unnamed: 0'].astype(str)\n",
    "# df_stars.set_index(['Unnamed: 0'], inplace=True)\n",
    "# stars_map = df_stars['Code'].to_dict()\n",
    "# df['Star Rate'] = df['Star Rate'].map(stars_map)"
   ]
  },
  {
   "cell_type": "code",
   "execution_count": null,
   "metadata": {},
   "outputs": [],
   "source": [
    "df = df.set_index(['Client ID'])"
   ]
  },
  {
   "cell_type": "code",
   "execution_count": null,
   "metadata": {
    "scrolled": true
   },
   "outputs": [],
   "source": []
  },
  {
   "cell_type": "code",
   "execution_count": null,
   "metadata": {},
   "outputs": [],
   "source": [
    "thresh_min = 16 # could be smaller e.g. 16\n",
    "# thresh_max = 60 \n",
    "df = df.loc[df['Age'] >= thresh_min]\n",
    "# df = df.loc[df['Age'] <= thresh_max]"
   ]
  },
  {
   "cell_type": "code",
   "execution_count": null,
   "metadata": {},
   "outputs": [],
   "source": [
    "df['Age'] = df['Age'].astype(int)"
   ]
  },
  {
   "cell_type": "code",
   "execution_count": null,
   "metadata": {},
   "outputs": [],
   "source": [
    "def categorize(series):\n",
    "    tmp_dict = series.value_counts(dropna=False).to_dict()\n",
    "    tmp_list = sorted(tmp_dict.items(), key=lambda item: -item[1])\n",
    "    map_dict = {}\n",
    "    for i, item in enumerate(tmp_list):\n",
    "        map_dict[item[0]] = i\n",
    "    cat_series = series.map(map_dict)\n",
    "    return cat_series, map_dict"
   ]
  },
  {
   "cell_type": "code",
   "execution_count": null,
   "metadata": {},
   "outputs": [],
   "source": [
    "df_new = pd.DataFrame(index=df.index)"
   ]
  },
  {
   "cell_type": "code",
   "execution_count": null,
   "metadata": {},
   "outputs": [],
   "source": [
    "df_new['Gender'], gender_map = categorize(df['Gender'])"
   ]
  },
  {
   "cell_type": "code",
   "execution_count": null,
   "metadata": {},
   "outputs": [],
   "source": [
    "df_new['Year'], year_map = categorize(df['Year'])"
   ]
  },
  {
   "cell_type": "code",
   "execution_count": null,
   "metadata": {},
   "outputs": [],
   "source": [
    "df_new['Trip Type'], trip_type_map = categorize(df['Trip Type'])"
   ]
  },
  {
   "cell_type": "code",
   "execution_count": null,
   "metadata": {},
   "outputs": [],
   "source": [
    "df_new['Order Type'], order_type_map = categorize(df['Order Type'])"
   ]
  },
  {
   "cell_type": "code",
   "execution_count": null,
   "metadata": {},
   "outputs": [],
   "source": [
    "df_new['Country'], country_map = categorize(df['Country'])"
   ]
  },
  {
   "cell_type": "code",
   "execution_count": null,
   "metadata": {},
   "outputs": [],
   "source": []
  },
  {
   "cell_type": "code",
   "execution_count": null,
   "metadata": {},
   "outputs": [],
   "source": [
    "df.loc[df['Region'].isna(), 'Region'] = df.loc[df['Region'].isna()]['Trip Name']"
   ]
  },
  {
   "cell_type": "code",
   "execution_count": null,
   "metadata": {},
   "outputs": [],
   "source": []
  },
  {
   "cell_type": "code",
   "execution_count": null,
   "metadata": {},
   "outputs": [],
   "source": [
    "df_new['Region'], region_map = categorize(df['Region'])"
   ]
  },
  {
   "cell_type": "code",
   "execution_count": null,
   "metadata": {},
   "outputs": [],
   "source": [
    "df_new['Star Rate'], star_map = categorize(df['Star Rate'])"
   ]
  },
  {
   "cell_type": "code",
   "execution_count": null,
   "metadata": {},
   "outputs": [],
   "source": [
    "df_new['Group Type'], group_type_map = categorize(df['Group Type'])"
   ]
  },
  {
   "cell_type": "code",
   "execution_count": null,
   "metadata": {},
   "outputs": [],
   "source": [
    "# df['Trip Name'], trip_name_map = categorize(df['Trip Name'])"
   ]
  },
  {
   "cell_type": "code",
   "execution_count": null,
   "metadata": {},
   "outputs": [],
   "source": [
    "df_new['Meal Option'], meal_opt_map = categorize(df['Meal Option'])"
   ]
  },
  {
   "cell_type": "code",
   "execution_count": null,
   "metadata": {},
   "outputs": [],
   "source": [
    "df_new['Destination City'], dest_city_map = categorize(df['Destination City'])"
   ]
  },
  {
   "cell_type": "code",
   "execution_count": null,
   "metadata": {},
   "outputs": [],
   "source": [
    "df_new['Departure City'], dep_city_map = categorize(df['Departure City'])"
   ]
  },
  {
   "cell_type": "code",
   "execution_count": null,
   "metadata": {},
   "outputs": [],
   "source": [
    "df_new['Age'], age_map = categorize(df['Age'])"
   ]
  },
  {
   "cell_type": "code",
   "execution_count": null,
   "metadata": {},
   "outputs": [],
   "source": [
    "df_new['N Nights'], nights_map = categorize(df['N Nights'])"
   ]
  },
  {
   "cell_type": "code",
   "execution_count": null,
   "metadata": {},
   "outputs": [],
   "source": [
    "df_new['N Tourists'], ntourists_map = categorize(df['N Tourists'])"
   ]
  },
  {
   "cell_type": "code",
   "execution_count": null,
   "metadata": {},
   "outputs": [],
   "source": [
    "df_new['Adult Tourists'], adult_map = categorize(df['Adult Tourists'])"
   ]
  },
  {
   "cell_type": "code",
   "execution_count": null,
   "metadata": {},
   "outputs": [],
   "source": [
    "df_new['Baby Tourists'], baby_map = categorize(df['Baby Tourists'])"
   ]
  },
  {
   "cell_type": "code",
   "execution_count": null,
   "metadata": {},
   "outputs": [],
   "source": [
    "df_new['Kid Tourists'], kid_map = categorize(df['Kid Tourists'])"
   ]
  },
  {
   "cell_type": "code",
   "execution_count": null,
   "metadata": {},
   "outputs": [],
   "source": []
  },
  {
   "cell_type": "code",
   "execution_count": null,
   "metadata": {},
   "outputs": [],
   "source": [
    "df_new"
   ]
  },
  {
   "cell_type": "code",
   "execution_count": null,
   "metadata": {},
   "outputs": [],
   "source": [
    "df_continius = df[['Birthday', 'Order', 'Order Date', 'Trip Start Date', 'Price', 'Booking Depth']]"
   ]
  },
  {
   "cell_type": "code",
   "execution_count": null,
   "metadata": {},
   "outputs": [],
   "source": [
    "dfdf = pd.concat([df_new, df_continius], axis=1)"
   ]
  },
  {
   "cell_type": "code",
   "execution_count": null,
   "metadata": {},
   "outputs": [],
   "source": [
    "dfdf.columns.shape"
   ]
  },
  {
   "cell_type": "code",
   "execution_count": null,
   "metadata": {},
   "outputs": [],
   "source": [
    "df.columns.shape"
   ]
  },
  {
   "cell_type": "code",
   "execution_count": null,
   "metadata": {},
   "outputs": [],
   "source": [
    "dfdf.to_csv('DatasetV4.csv')"
   ]
  },
  {
   "cell_type": "code",
   "execution_count": null,
   "metadata": {},
   "outputs": [],
   "source": [
    "def ohe(df, cols):\n",
    "    dfs = []\n",
    "    for col in cols:\n",
    "        ohe_df = pd.get_dummies(df[col])\n",
    "        dfs.append(ohe_df)\n",
    "    return pd.concat(dfs, axis=1)"
   ]
  },
  {
   "cell_type": "code",
   "execution_count": null,
   "metadata": {},
   "outputs": [],
   "source": [
    "dfdfdf = ohe(dfdf, ['Gender', 'Year', 'Trip Type', 'Order Type', 'Country', 'Region',\n",
    "       'Star Rate', 'Group Type', 'Meal Option', 'Destination City',\n",
    "       'Departure City', 'Age', 'N Nights', 'N Tourists', 'Adult Tourists',\n",
    "       'Kid Tourists', 'Baby Tourists'])"
   ]
  },
  {
   "cell_type": "code",
   "execution_count": null,
   "metadata": {},
   "outputs": [],
   "source": [
    "# dfdfdf = df_feat[['Birthday', 'Order Date', 'Trip Start Date', 'Price', 'Booking Depth']]"
   ]
  },
  {
   "cell_type": "code",
   "execution_count": null,
   "metadata": {},
   "outputs": [],
   "source": [
    "dfdfdf"
   ]
  },
  {
   "cell_type": "code",
   "execution_count": null,
   "metadata": {},
   "outputs": [],
   "source": [
    "# from sklearn.manifold import TSNE\n",
    "from tsnecuda import TSNE\n",
    "X_embedded = TSNE(n_components=2, perplexity=1024.0, learning_rate=50.0).fit_transform(dfdfdf.to_numpy())\n",
    "# X_embedded = TSNE(n_components=2).fit_transform()"
   ]
  },
  {
   "cell_type": "code",
   "execution_count": null,
   "metadata": {},
   "outputs": [],
   "source": [
    "X_embedded"
   ]
  },
  {
   "cell_type": "code",
   "execution_count": null,
   "metadata": {
    "scrolled": true
   },
   "outputs": [],
   "source": [
    "from sklearn.mixture import BayesianGaussianMixture\n",
    "bgm = BayesianGaussianMixture(n_components=12, weight_concentration_prior=3).fit_predict(X_embedded)"
   ]
  },
  {
   "cell_type": "code",
   "execution_count": null,
   "metadata": {},
   "outputs": [],
   "source": [
    "bgm"
   ]
  },
  {
   "cell_type": "code",
   "execution_count": null,
   "metadata": {
    "scrolled": true
   },
   "outputs": [],
   "source": [
    "# from sklearn.cluster import KMeans\n",
    "# kmeans = KMeans(n_clusters=24).fit_predict(X_embedded)"
   ]
  },
  {
   "cell_type": "code",
   "execution_count": null,
   "metadata": {},
   "outputs": [],
   "source": []
  },
  {
   "cell_type": "code",
   "execution_count": null,
   "metadata": {},
   "outputs": [],
   "source": []
  },
  {
   "cell_type": "code",
   "execution_count": null,
   "metadata": {
    "scrolled": true
   },
   "outputs": [],
   "source": [
    "from sklearn.decomposition import PCA \n",
    "pca = PCA(n_components=2)\n",
    "X_cat = pca.fit_transform(dfdfdf.to_numpy())"
   ]
  },
  {
   "cell_type": "code",
   "execution_count": null,
   "metadata": {},
   "outputs": [],
   "source": [
    "from sklearn.preprocessing import StandardScaler\n",
    "scaler = StandardScaler()\n",
    "dfdfdf_norm = scaler.fit_transform(dfdfdf.to_numpy())\n",
    "pca = PCA(n_components=2)\n",
    "X_temporal = pca.fit_transform(dfdfdf_norm)"
   ]
  },
  {
   "cell_type": "code",
   "execution_count": null,
   "metadata": {},
   "outputs": [],
   "source": [
    "# plt.scatter(X_all[:, 0], X_all[:, 1]) "
   ]
  },
  {
   "cell_type": "code",
   "execution_count": null,
   "metadata": {},
   "outputs": [],
   "source": [
    "plt.scatter(X_cat[:, 0], X_cat[:, 1]) "
   ]
  },
  {
   "cell_type": "code",
   "execution_count": null,
   "metadata": {},
   "outputs": [],
   "source": [
    "fig = plt.figure(figsize=(20, 20))\n",
    "plt.scatter(X_embedded[:, 0], X_embedded[:, 1], c=bgm) "
   ]
  },
  {
   "cell_type": "code",
   "execution_count": 4,
   "metadata": {},
   "outputs": [],
   "source": [
    "df = pd.read_csv('DatasetV4.csv')"
   ]
  },
  {
   "cell_type": "code",
   "execution_count": 5,
   "metadata": {},
   "outputs": [
    {
     "data": {
      "text/html": [
       "<div>\n",
       "<style scoped>\n",
       "    .dataframe tbody tr th:only-of-type {\n",
       "        vertical-align: middle;\n",
       "    }\n",
       "\n",
       "    .dataframe tbody tr th {\n",
       "        vertical-align: top;\n",
       "    }\n",
       "\n",
       "    .dataframe thead th {\n",
       "        text-align: right;\n",
       "    }\n",
       "</style>\n",
       "<table border=\"1\" class=\"dataframe\">\n",
       "  <thead>\n",
       "    <tr style=\"text-align: right;\">\n",
       "      <th></th>\n",
       "      <th>Client ID</th>\n",
       "      <th>Gender</th>\n",
       "      <th>Year</th>\n",
       "      <th>Trip Type</th>\n",
       "      <th>Order Type</th>\n",
       "      <th>Country</th>\n",
       "      <th>Region</th>\n",
       "      <th>Star Rate</th>\n",
       "      <th>Group Type</th>\n",
       "      <th>Meal Option</th>\n",
       "      <th>...</th>\n",
       "      <th>N Tourists</th>\n",
       "      <th>Adult Tourists</th>\n",
       "      <th>Baby Tourists</th>\n",
       "      <th>Kid Tourists</th>\n",
       "      <th>Birthday</th>\n",
       "      <th>Order</th>\n",
       "      <th>Order Date</th>\n",
       "      <th>Trip Start Date</th>\n",
       "      <th>Price</th>\n",
       "      <th>Booking Depth</th>\n",
       "    </tr>\n",
       "  </thead>\n",
       "  <tbody>\n",
       "    <tr>\n",
       "      <th>0</th>\n",
       "      <td>4197429</td>\n",
       "      <td>1</td>\n",
       "      <td>3</td>\n",
       "      <td>0</td>\n",
       "      <td>0</td>\n",
       "      <td>0</td>\n",
       "      <td>0</td>\n",
       "      <td>2</td>\n",
       "      <td>0</td>\n",
       "      <td>1</td>\n",
       "      <td>...</td>\n",
       "      <td>2</td>\n",
       "      <td>0</td>\n",
       "      <td>0</td>\n",
       "      <td>2</td>\n",
       "      <td>672537600.0</td>\n",
       "      <td>4803671</td>\n",
       "      <td>1.612731e+09</td>\n",
       "      <td>1.620086e+09</td>\n",
       "      <td>1718.64</td>\n",
       "      <td>85.136111</td>\n",
       "    </tr>\n",
       "    <tr>\n",
       "      <th>1</th>\n",
       "      <td>4197517</td>\n",
       "      <td>1</td>\n",
       "      <td>3</td>\n",
       "      <td>0</td>\n",
       "      <td>0</td>\n",
       "      <td>0</td>\n",
       "      <td>5</td>\n",
       "      <td>1</td>\n",
       "      <td>0</td>\n",
       "      <td>2</td>\n",
       "      <td>...</td>\n",
       "      <td>1</td>\n",
       "      <td>0</td>\n",
       "      <td>0</td>\n",
       "      <td>1</td>\n",
       "      <td>342230400.0</td>\n",
       "      <td>4803915</td>\n",
       "      <td>1.612775e+09</td>\n",
       "      <td>1.614816e+09</td>\n",
       "      <td>948.45</td>\n",
       "      <td>23.622917</td>\n",
       "    </tr>\n",
       "    <tr>\n",
       "      <th>2</th>\n",
       "      <td>4197719</td>\n",
       "      <td>1</td>\n",
       "      <td>3</td>\n",
       "      <td>0</td>\n",
       "      <td>0</td>\n",
       "      <td>0</td>\n",
       "      <td>1</td>\n",
       "      <td>1</td>\n",
       "      <td>0</td>\n",
       "      <td>2</td>\n",
       "      <td>...</td>\n",
       "      <td>1</td>\n",
       "      <td>0</td>\n",
       "      <td>0</td>\n",
       "      <td>1</td>\n",
       "      <td>-39052800.0</td>\n",
       "      <td>4806034</td>\n",
       "      <td>1.612814e+09</td>\n",
       "      <td>1.633738e+09</td>\n",
       "      <td>2128.15</td>\n",
       "      <td>242.176389</td>\n",
       "    </tr>\n",
       "    <tr>\n",
       "      <th>3</th>\n",
       "      <td>4199375</td>\n",
       "      <td>1</td>\n",
       "      <td>3</td>\n",
       "      <td>0</td>\n",
       "      <td>0</td>\n",
       "      <td>0</td>\n",
       "      <td>0</td>\n",
       "      <td>1</td>\n",
       "      <td>0</td>\n",
       "      <td>2</td>\n",
       "      <td>...</td>\n",
       "      <td>0</td>\n",
       "      <td>2</td>\n",
       "      <td>0</td>\n",
       "      <td>1</td>\n",
       "      <td>-300758400.0</td>\n",
       "      <td>4807039</td>\n",
       "      <td>1.612875e+09</td>\n",
       "      <td>1.614384e+09</td>\n",
       "      <td>993.85</td>\n",
       "      <td>17.468056</td>\n",
       "    </tr>\n",
       "    <tr>\n",
       "      <th>4</th>\n",
       "      <td>4208819</td>\n",
       "      <td>1</td>\n",
       "      <td>3</td>\n",
       "      <td>0</td>\n",
       "      <td>0</td>\n",
       "      <td>0</td>\n",
       "      <td>3</td>\n",
       "      <td>3</td>\n",
       "      <td>2</td>\n",
       "      <td>5</td>\n",
       "      <td>...</td>\n",
       "      <td>2</td>\n",
       "      <td>3</td>\n",
       "      <td>0</td>\n",
       "      <td>0</td>\n",
       "      <td>484704000.0</td>\n",
       "      <td>4808190</td>\n",
       "      <td>1.612892e+09</td>\n",
       "      <td>1.622938e+09</td>\n",
       "      <td>1121.02</td>\n",
       "      <td>116.265278</td>\n",
       "    </tr>\n",
       "  </tbody>\n",
       "</table>\n",
       "<p>5 rows × 24 columns</p>\n",
       "</div>"
      ],
      "text/plain": [
       "   Client ID  Gender  Year  Trip Type  Order Type  Country  Region  Star Rate  \\\n",
       "0    4197429       1     3          0           0        0       0          2   \n",
       "1    4197517       1     3          0           0        0       5          1   \n",
       "2    4197719       1     3          0           0        0       1          1   \n",
       "3    4199375       1     3          0           0        0       0          1   \n",
       "4    4208819       1     3          0           0        0       3          3   \n",
       "\n",
       "   Group Type  Meal Option  ...  N Tourists  Adult Tourists  Baby Tourists  \\\n",
       "0           0            1  ...           2               0              0   \n",
       "1           0            2  ...           1               0              0   \n",
       "2           0            2  ...           1               0              0   \n",
       "3           0            2  ...           0               2              0   \n",
       "4           2            5  ...           2               3              0   \n",
       "\n",
       "   Kid Tourists     Birthday    Order    Order Date  Trip Start Date    Price  \\\n",
       "0             2  672537600.0  4803671  1.612731e+09     1.620086e+09  1718.64   \n",
       "1             1  342230400.0  4803915  1.612775e+09     1.614816e+09   948.45   \n",
       "2             1  -39052800.0  4806034  1.612814e+09     1.633738e+09  2128.15   \n",
       "3             1 -300758400.0  4807039  1.612875e+09     1.614384e+09   993.85   \n",
       "4             0  484704000.0  4808190  1.612892e+09     1.622938e+09  1121.02   \n",
       "\n",
       "   Booking Depth  \n",
       "0      85.136111  \n",
       "1      23.622917  \n",
       "2     242.176389  \n",
       "3      17.468056  \n",
       "4     116.265278  \n",
       "\n",
       "[5 rows x 24 columns]"
      ]
     },
     "execution_count": 5,
     "metadata": {},
     "output_type": "execute_result"
    }
   ],
   "source": [
    "df.head()"
   ]
  },
  {
   "cell_type": "code",
   "execution_count": 10,
   "metadata": {},
   "outputs": [
    {
     "data": {
      "text/plain": [
       "Index(['Client ID', 'Gender', 'Year', 'Trip Type', 'Order Type', 'Country',\n",
       "       'Region', 'Star Rate', 'Group Type', 'Meal Option', 'Destination City',\n",
       "       'Departure City', 'Age', 'N Nights', 'N Tourists', 'Adult Tourists',\n",
       "       'Baby Tourists', 'Kid Tourists', 'Birthday', 'Order', 'Order Date',\n",
       "       'Trip Start Date', 'Price', 'Booking Depth'],\n",
       "      dtype='object')"
      ]
     },
     "execution_count": 10,
     "metadata": {},
     "output_type": "execute_result"
    }
   ],
   "source": []
  },
  {
   "cell_type": "code",
   "execution_count": null,
   "metadata": {},
   "outputs": [],
   "source": []
  }
 ],
 "metadata": {
  "kernelspec": {
   "display_name": "Python 3",
   "language": "python",
   "name": "python3"
  },
  "language_info": {
   "codemirror_mode": {
    "name": "ipython",
    "version": 3
   },
   "file_extension": ".py",
   "mimetype": "text/x-python",
   "name": "python",
   "nbconvert_exporter": "python",
   "pygments_lexer": "ipython3",
   "version": "3.7.4"
  }
 },
 "nbformat": 4,
 "nbformat_minor": 4
}
