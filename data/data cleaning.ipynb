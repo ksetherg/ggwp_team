{
 "cells": [
  {
   "cell_type": "code",
   "execution_count": null,
   "metadata": {},
   "outputs": [],
   "source": [
    "import pandas as pd\n",
    "import numpy as np\n",
    "from matplotlib import pyplot as plt"
   ]
  },
  {
   "cell_type": "code",
   "execution_count": null,
   "metadata": {},
   "outputs": [],
   "source": [
    "df = pd.read_csv('Datasetv2.csv')  "
   ]
  },
  {
   "cell_type": "code",
   "execution_count": null,
   "metadata": {},
   "outputs": [],
   "source": [
    "# df.drop(columns=['Unnamed: 0'], inplace=True)"
   ]
  },
  {
   "cell_type": "code",
   "execution_count": null,
   "metadata": {},
   "outputs": [],
   "source": []
  },
  {
   "cell_type": "code",
   "execution_count": null,
   "metadata": {
    "scrolled": true
   },
   "outputs": [],
   "source": [
    "import nltk\n",
    "\n",
    "def extract_entity_names(t):\n",
    "    entity_names = []\n",
    "\n",
    "    if hasattr(t, 'label') and t.label:\n",
    "        if t.label() == 'NE':\n",
    "            entity_names.append(' '.join([child[0] for child in t]))\n",
    "        else:\n",
    "            for child in t:\n",
    "                entity_names.extend(extract_entity_names(child))\n",
    "\n",
    "    return entity_names"
   ]
  },
  {
   "cell_type": "code",
   "execution_count": null,
   "metadata": {},
   "outputs": [],
   "source": [
    "orig_lines = df['Trip Name'].value_counts().index.to_numpy()"
   ]
  },
  {
   "cell_type": "code",
   "execution_count": null,
   "metadata": {},
   "outputs": [],
   "source": [
    "new_lines = []\n",
    "for line in orig_lines:\n",
    "    s = ''.join([i for i in line if not i.isdigit()])\n",
    "    new_lines.append(s)"
   ]
  },
  {
   "cell_type": "code",
   "execution_count": null,
   "metadata": {},
   "outputs": [],
   "source": [
    "import re\n",
    "new_new_lines = []\n",
    "\n",
    "for line in new_lines:\n",
    "    result = re.sub(\"[\\(\\[].*?[\\)\\]]\", \"\", line)\n",
    "    new_new_lines.append(result)"
   ]
  },
  {
   "cell_type": "code",
   "execution_count": null,
   "metadata": {},
   "outputs": [],
   "source": []
  },
  {
   "cell_type": "code",
   "execution_count": null,
   "metadata": {},
   "outputs": [],
   "source": [
    "lines = [line.replace('TUI', '').replace('Premium', '').replace('SL', '').replace('Prestige', '').replace('.', ' ').replace('-', ' ').replace('+', ' ').replace('*', ' ').replace('RU', '').replace('MOW', '').replace('GDS', '') for line in new_new_lines]"
   ]
  },
  {
   "cell_type": "code",
   "execution_count": null,
   "metadata": {},
   "outputs": [],
   "source": []
  },
  {
   "cell_type": "code",
   "execution_count": null,
   "metadata": {
    "scrolled": true
   },
   "outputs": [],
   "source": [
    "tour_name_map_dict = {}\n",
    "for orig_line, line in zip(orig_lines, lines):\n",
    "    sentences = nltk.sent_tokenize(line)\n",
    "    tokenized_sentences = [nltk.word_tokenize(sentence) for sentence in sentences]\n",
    "    tagged_sentences = [nltk.pos_tag(sentence) for sentence in tokenized_sentences]\n",
    "    chunked_sentences = nltk.ne_chunk_sents(tagged_sentences, binary=True)\n",
    "\n",
    "    entities = []\n",
    "    for tree in chunked_sentences:\n",
    "        entities.extend(extract_entity_names(tree))\n",
    "    if len(entities) > 0:\n",
    "        if 0 < len(entities[0].split()) < 3:\n",
    "            print(orig_line, '#', entities[0].split()[-1])\n",
    "            tour_name_map_dict[orig_line] = entities[0].split()[-1]\n",
    "        elif len(entities[0].split()) >= 3:\n",
    "            print(orig_line, '##', entities)\n",
    "            tour_name_map_dict[orig_line] = entities[0].split()[1]"
   ]
  },
  {
   "cell_type": "code",
   "execution_count": null,
   "metadata": {},
   "outputs": [],
   "source": [
    "tour_name_map_dict['Czech Republic Prague MOW GDS'] = 'Prague'\n",
    "tour_name_map_dict['UAE W17/18 VKO'] = 'Dubai'"
   ]
  },
  {
   "cell_type": "code",
   "execution_count": null,
   "metadata": {},
   "outputs": [],
   "source": [
    "df['Trip Name'] = df['Trip Name'].map(tour_name_map_dict)"
   ]
  },
  {
   "cell_type": "code",
   "execution_count": null,
   "metadata": {},
   "outputs": [],
   "source": [
    "df['Trip Name'].value_counts()"
   ]
  },
  {
   "cell_type": "code",
   "execution_count": null,
   "metadata": {},
   "outputs": [],
   "source": []
  },
  {
   "cell_type": "code",
   "execution_count": null,
   "metadata": {},
   "outputs": [],
   "source": [
    "# df['Age'] = df['Age'].astype(int)\n",
    "# df['Gender'] = df['Gender'].astype(str)\n",
    "# df['Trip Type'] = df['Trip Type'].astype(str)\n",
    "# df['Order Type'] = df['Order Type'].astype(str)\n",
    "# df['Country'] = df['Country'].astype(str)\n",
    "# df['Region'] = df['Region'].astype(str)\n",
    "# df['Star Rate'] = df['Star Rate'].astype(str)\n",
    "# df['Group Type'] = df['Group Type'].astype(str)\n",
    "# df['Trip Name'] = df['Trip Name'].astype(str)\n",
    "# df['Meal Option'] = df['Meal Option'].astype(str)\n",
    "# df['Destination City'] = df['Destination City'].astype(str)\n",
    "# df['Departure City'] = df['Departure City'].astype(str)"
   ]
  },
  {
   "cell_type": "code",
   "execution_count": null,
   "metadata": {},
   "outputs": [],
   "source": [
    "# col_names = {'Пол': 'Gender', 'День рождения': 'Birthday', \n",
    "#             'Возраст клиента': 'Age', 'Заявка № ': 'Order', \n",
    "#             'Дата бронирования': 'Order Date', 'Дата начала тура': 'Trip Start Date',\n",
    "#             'Год': 'Year', 'Ночей': 'N Nights', 'Вид тура': 'Trip Type', \n",
    "#             'Тип заявки': 'Order Type', 'Страна тура': 'Country', \n",
    "#             'Регион отеля': 'Region', 'Туристов': 'N Tourists',\n",
    "#             'Туристы, взрослые': 'Adult Tourists', 'Туристы, дети': 'Kid Tourists',\n",
    "#             'Младенцы': 'Baby Tourists', 'Звездность': 'Star Rate', \n",
    "#             'Состав группы (Заявка) (Заявка)': 'Group Type', 'Сумма в $': 'Price', \n",
    "#             'Наименование тура': 'Trip Name', 'ИД клиента': 'Client ID', \n",
    "#             'Глубина продаж': 'Booking Depth', 'Тип питания': 'Meal Option', \n",
    "#             'Город Отеля': 'Destination City', 'Город отправления': 'Departure City'}\n",
    "# df = df.rename(columns=col_names)"
   ]
  },
  {
   "cell_type": "code",
   "execution_count": null,
   "metadata": {},
   "outputs": [],
   "source": [
    "df['Birthday'] = pd.to_datetime(df['Birthday'])\n",
    "df.loc[df['Birthday'].notnull(), 'Birthday'] = df.loc[df['Birthday'].notnull(), 'Birthday'].apply(lambda x: x.timestamp()) \n",
    "\n",
    "df['Order Date'] = pd.to_datetime(df['Order Date'])\n",
    "df['Order Date'] = df['Order Date'].apply(lambda x: x.timestamp()) \n",
    "\n",
    "df['Trip Start Date'] = pd.to_datetime(df['Trip Start Date'])\n",
    "df['Trip Start Date'] = df['Trip Start Date'].apply(lambda x: x.timestamp()) \n"
   ]
  },
  {
   "cell_type": "code",
   "execution_count": null,
   "metadata": {},
   "outputs": [],
   "source": []
  },
  {
   "cell_type": "code",
   "execution_count": null,
   "metadata": {},
   "outputs": [],
   "source": [
    "# df_meal = pd.read_excel('MEALS - code.xlsx')\n",
    "# df_meal['Unnamed: 0'] = df_meal['Unnamed: 0'].astype(str)\n",
    "# df_meal.set_index(['Unnamed: 0'], inplace=True)\n",
    "# meal_map = df_meal['Code meal'].to_dict()\n",
    "# df['Meal Option'] = df['Meal Option'].map(meal_map)"
   ]
  },
  {
   "cell_type": "code",
   "execution_count": null,
   "metadata": {},
   "outputs": [],
   "source": [
    "# df_stars = pd.read_excel('STARS - code.xlsx')\n",
    "# df_stars['Unnamed: 0'] = df_stars['Unnamed: 0'].astype(str)\n",
    "# df_stars.set_index(['Unnamed: 0'], inplace=True)\n",
    "# stars_map = df_stars['Code'].to_dict()\n",
    "# df['Star Rate'] = df['Star Rate'].map(stars_map)"
   ]
  },
  {
   "cell_type": "code",
   "execution_count": null,
   "metadata": {},
   "outputs": [],
   "source": [
    "df = df.set_index(['Client ID'])"
   ]
  },
  {
   "cell_type": "code",
   "execution_count": null,
   "metadata": {
    "scrolled": true
   },
   "outputs": [],
   "source": []
  },
  {
   "cell_type": "code",
   "execution_count": null,
   "metadata": {},
   "outputs": [],
   "source": [
    "thresh_min = 16 # could be smaller e.g. 16\n",
    "# thresh_max = 60 \n",
    "df = df.loc[df['Age'] >= thresh_min]\n",
    "# df = df.loc[df['Age'] <= thresh_max]"
   ]
  },
  {
   "cell_type": "code",
   "execution_count": null,
   "metadata": {},
   "outputs": [],
   "source": [
    "df['Age'] = df['Age'].astype(int)"
   ]
  },
  {
   "cell_type": "code",
   "execution_count": null,
   "metadata": {},
   "outputs": [],
   "source": [
    "def categorize(series):\n",
    "    tmp_dict = series.value_counts(dropna=False).to_dict()\n",
    "    tmp_list = sorted(tmp_dict.items(), key=lambda item: -item[1])\n",
    "    map_dict = {}\n",
    "    for i, item in enumerate(tmp_list):\n",
    "        map_dict[item[0]] = i\n",
    "    cat_series = series.map(map_dict)\n",
    "    return cat_series, map_dict"
   ]
  },
  {
   "cell_type": "code",
   "execution_count": null,
   "metadata": {},
   "outputs": [],
   "source": [
    "df_new = pd.DataFrame(index=df.index)"
   ]
  },
  {
   "cell_type": "code",
   "execution_count": null,
   "metadata": {},
   "outputs": [],
   "source": [
    "df_new['Gender'], gender_map = categorize(df['Gender'])"
   ]
  },
  {
   "cell_type": "code",
   "execution_count": null,
   "metadata": {},
   "outputs": [],
   "source": [
    "df_new['Year'], year_map = categorize(df['Year'])"
   ]
  },
  {
   "cell_type": "code",
   "execution_count": null,
   "metadata": {},
   "outputs": [],
   "source": [
    "df_new['Trip Type'], trip_type_map = categorize(df['Trip Type'])"
   ]
  },
  {
   "cell_type": "code",
   "execution_count": null,
   "metadata": {},
   "outputs": [],
   "source": [
    "df_new['Order Type'], order_type_map = categorize(df['Order Type'])"
   ]
  },
  {
   "cell_type": "code",
   "execution_count": null,
   "metadata": {},
   "outputs": [],
   "source": [
    "df_new['Country'], country_map = categorize(df['Country'])"
   ]
  },
  {
   "cell_type": "code",
   "execution_count": null,
   "metadata": {},
   "outputs": [],
   "source": []
  },
  {
   "cell_type": "code",
   "execution_count": null,
   "metadata": {},
   "outputs": [],
   "source": [
    "df.loc[df['Region'].isna(), 'Region'] = df.loc[df['Region'].isna()]['Trip Name']"
   ]
  },
  {
   "cell_type": "code",
   "execution_count": null,
   "metadata": {},
   "outputs": [],
   "source": []
  },
  {
   "cell_type": "code",
   "execution_count": null,
   "metadata": {},
   "outputs": [],
   "source": [
    "df_new['Region'], region_map = categorize(df['Region'])"
   ]
  },
  {
   "cell_type": "code",
   "execution_count": null,
   "metadata": {},
   "outputs": [],
   "source": [
    "df_new['Star Rate'], star_map = categorize(df['Star Rate'])"
   ]
  },
  {
   "cell_type": "code",
   "execution_count": null,
   "metadata": {},
   "outputs": [],
   "source": [
    "df_new['Group Type'], group_type_map = categorize(df['Group Type'])"
   ]
  },
  {
   "cell_type": "code",
   "execution_count": null,
   "metadata": {},
   "outputs": [],
   "source": [
    "# df['Trip Name'], trip_name_map = categorize(df['Trip Name'])"
   ]
  },
  {
   "cell_type": "code",
   "execution_count": null,
   "metadata": {},
   "outputs": [],
   "source": [
    "df_new['Meal Option'], meal_opt_map = categorize(df['Meal Option'])"
   ]
  },
  {
   "cell_type": "code",
   "execution_count": null,
   "metadata": {},
   "outputs": [],
   "source": [
    "df_new['Destination City'], dest_city_map = categorize(df['Destination City'])"
   ]
  },
  {
   "cell_type": "code",
   "execution_count": null,
   "metadata": {},
   "outputs": [],
   "source": [
    "df_new['Departure City'], dep_city_map = categorize(df['Departure City'])"
   ]
  },
  {
   "cell_type": "code",
   "execution_count": null,
   "metadata": {},
   "outputs": [],
   "source": [
    "df_new['Age'], age_map = categorize(df['Age'])"
   ]
  },
  {
   "cell_type": "code",
   "execution_count": null,
   "metadata": {},
   "outputs": [],
   "source": [
    "df_new['N Nights'], nights_map = categorize(df['N Nights'])"
   ]
  },
  {
   "cell_type": "code",
   "execution_count": null,
   "metadata": {},
   "outputs": [],
   "source": [
    "df_new['N Tourists'], ntourists_map = categorize(df['N Tourists'])"
   ]
  },
  {
   "cell_type": "code",
   "execution_count": null,
   "metadata": {},
   "outputs": [],
   "source": [
    "df_new['Adult Tourists'], adult_map = categorize(df['Adult Tourists'])"
   ]
  },
  {
   "cell_type": "code",
   "execution_count": null,
   "metadata": {},
   "outputs": [],
   "source": [
    "df_new['Baby Tourists'], baby_map = categorize(df['Baby Tourists'])"
   ]
  },
  {
   "cell_type": "code",
   "execution_count": null,
   "metadata": {},
   "outputs": [],
   "source": [
    "df_new['Kid Tourists'], kid_map = categorize(df['Kid Tourists'])"
   ]
  },
  {
   "cell_type": "code",
   "execution_count": null,
   "metadata": {},
   "outputs": [],
   "source": []
  },
  {
   "cell_type": "code",
   "execution_count": null,
   "metadata": {},
   "outputs": [],
   "source": [
    "df_new"
   ]
  },
  {
   "cell_type": "code",
   "execution_count": null,
   "metadata": {},
   "outputs": [],
   "source": [
    "df_continius = df[['Birthday', 'Order', 'Order Date', 'Trip Start Date', 'Price', 'Booking Depth']]"
   ]
  },
  {
   "cell_type": "code",
   "execution_count": null,
   "metadata": {},
   "outputs": [],
   "source": [
    "dfdf = pd.concat([df_new, df_continius], axis=1)"
   ]
  },
  {
   "cell_type": "code",
   "execution_count": null,
   "metadata": {},
   "outputs": [],
   "source": [
    "dfdf.columns.shape"
   ]
  },
  {
   "cell_type": "code",
   "execution_count": null,
   "metadata": {},
   "outputs": [],
   "source": [
    "df.columns.shape"
   ]
  },
  {
   "cell_type": "code",
   "execution_count": null,
   "metadata": {},
   "outputs": [],
   "source": [
    "dfdf.to_csv('DatasetV4.csv')"
   ]
  },
  {
   "cell_type": "code",
   "execution_count": null,
   "metadata": {},
   "outputs": [],
   "source": [
    "def ohe(df, cols):\n",
    "    dfs = []\n",
    "    for col in cols:\n",
    "        ohe_df = pd.get_dummies(df[col])\n",
    "        dfs.append(ohe_df)\n",
    "    return pd.concat(dfs, axis=1)"
   ]
  },
  {
   "cell_type": "code",
   "execution_count": null,
   "metadata": {},
   "outputs": [],
   "source": [
    "dfdfdf = ohe(dfdf, ['Gender', 'Year', 'Trip Type', 'Order Type', 'Country', 'Region',\n",
    "       'Star Rate', 'Group Type', 'Meal Option', 'Destination City',\n",
    "       'Departure City', 'Age', 'N Nights', 'N Tourists', 'Adult Tourists',\n",
    "       'Kid Tourists', 'Baby Tourists'])"
   ]
  },
  {
   "cell_type": "code",
   "execution_count": null,
   "metadata": {},
   "outputs": [],
   "source": [
    "# dfdfdf = df_feat[['Birthday', 'Order Date', 'Trip Start Date', 'Price', 'Booking Depth']]"
   ]
  },
  {
   "cell_type": "code",
   "execution_count": null,
   "metadata": {},
   "outputs": [],
   "source": [
    "dfdfdf"
   ]
  },
  {
   "cell_type": "code",
   "execution_count": null,
   "metadata": {},
   "outputs": [],
   "source": [
    "# from sklearn.manifold import TSNE\n",
    "from tsnecuda import TSNE\n",
    "X_embedded = TSNE(n_components=2, perplexity=1024.0, learning_rate=50.0).fit_transform(dfdfdf.to_numpy())\n",
    "# X_embedded = TSNE(n_components=2).fit_transform()"
   ]
  },
  {
   "cell_type": "code",
   "execution_count": null,
   "metadata": {},
   "outputs": [],
   "source": [
    "X_embedded"
   ]
  },
  {
   "cell_type": "code",
   "execution_count": null,
   "metadata": {
    "scrolled": true
   },
   "outputs": [],
   "source": [
    "from sklearn.mixture import BayesianGaussianMixture\n",
    "bgm = BayesianGaussianMixture(n_components=12, weight_concentration_prior=3).fit_predict(X_embedded)"
   ]
  },
  {
   "cell_type": "code",
   "execution_count": null,
   "metadata": {},
   "outputs": [],
   "source": [
    "bgm"
   ]
  },
  {
   "cell_type": "code",
   "execution_count": null,
   "metadata": {
    "scrolled": true
   },
   "outputs": [],
   "source": [
    "# from sklearn.cluster import KMeans\n",
    "# kmeans = KMeans(n_clusters=24).fit_predict(X_embedded)"
   ]
  },
  {
   "cell_type": "code",
   "execution_count": null,
   "metadata": {},
   "outputs": [],
   "source": []
  },
  {
   "cell_type": "code",
   "execution_count": null,
   "metadata": {},
   "outputs": [],
   "source": []
  },
  {
   "cell_type": "code",
   "execution_count": null,
   "metadata": {
    "scrolled": true
   },
   "outputs": [],
   "source": [
    "from sklearn.decomposition import PCA \n",
    "pca = PCA(n_components=2)\n",
    "X_cat = pca.fit_transform(dfdfdf.to_numpy())"
   ]
  },
  {
   "cell_type": "code",
   "execution_count": null,
   "metadata": {},
   "outputs": [],
   "source": [
    "from sklearn.preprocessing import StandardScaler\n",
    "scaler = StandardScaler()\n",
    "dfdfdf_norm = scaler.fit_transform(dfdfdf.to_numpy())\n",
    "pca = PCA(n_components=2)\n",
    "X_temporal = pca.fit_transform(dfdfdf_norm)"
   ]
  },
  {
   "cell_type": "code",
   "execution_count": null,
   "metadata": {},
   "outputs": [],
   "source": [
    "# plt.scatter(X_all[:, 0], X_all[:, 1]) "
   ]
  },
  {
   "cell_type": "code",
   "execution_count": null,
   "metadata": {},
   "outputs": [],
   "source": [
    "plt.scatter(X_cat[:, 0], X_cat[:, 1]) "
   ]
  },
  {
   "cell_type": "code",
   "execution_count": null,
   "metadata": {},
   "outputs": [],
   "source": [
    "fig = plt.figure(figsize=(20, 20))\n",
    "plt.scatter(X_embedded[:, 0], X_embedded[:, 1], c=bgm) "
   ]
  },
  {
   "cell_type": "code",
   "execution_count": null,
   "metadata": {},
   "outputs": [],
   "source": []
  },
  {
   "cell_type": "code",
   "execution_count": null,
   "metadata": {},
   "outputs": [],
   "source": []
  }
 ],
 "metadata": {
  "kernelspec": {
   "display_name": "Python 3",
   "language": "python",
   "name": "python3"
  },
  "language_info": {
   "codemirror_mode": {
    "name": "ipython",
    "version": 3
   },
   "file_extension": ".py",
   "mimetype": "text/x-python",
   "name": "python",
   "nbconvert_exporter": "python",
   "pygments_lexer": "ipython3",
   "version": "3.7.4"
  }
 },
 "nbformat": 4,
 "nbformat_minor": 4
}
